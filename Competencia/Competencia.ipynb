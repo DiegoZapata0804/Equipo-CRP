{
 "cells": [
  {
   "cell_type": "markdown",
   "metadata": {},
   "source": [
    "# Competencia: Clasificación de Péptidos Antimicrobianos\n",
    "\n",
    "El equipo está conformado por:\n",
    "\n",
    "    Angie Melissa Calderón Albarracin\n",
    "    Diego Alejandro Zapata Alcaraz\n",
    "    Juan David Valencia Quiceno\n",
    "    Juan Esteban Arroyave Duque"
   ]
  },
  {
   "cell_type": "code",
   "execution_count": 1,
   "metadata": {},
   "outputs": [],
   "source": [
    "#Importar paquetes\n",
    "import pandas as pd\n",
    "import numpy as np\n",
    "import cv2\n",
    "import matplotlib.pyplot as plt\n",
    "from sklearn.preprocessing import StandardScaler"
   ]
  },
  {
   "cell_type": "code",
   "execution_count": 4,
   "metadata": {},
   "outputs": [
    {
     "name": "stdout",
     "output_type": "stream",
     "text": [
      "Forma de los datos positivos (8322, 1762)\n",
      "Forma de los datos negativos (5561, 1761)\n",
      "Forma de los datos validacion (1623, 1763)\n",
      "Forma de los datos del preprocesamiento (15506, 1763)\n"
     ]
    }
   ],
   "source": [
    "#Cargar la data\n",
    "data_positiva=pd.read_csv('Datos/DatosPositivos1.csv')\n",
    "data_negativa=pd.read_csv('Datos/DatosNegativos1.csv')\n",
    "data_validacion=pd.read_csv('Datos/DatosValidacion1.csv')\n",
    "\n",
    "data_positiva['Tipo']='Train'\n",
    "data_negativa['Tipo']='Train'\n",
    "data_validacion['Tipo']='Test'\n",
    "\n",
    "data_pre=pd.concat([data_positiva,data_negativa,data_validacion])\n",
    "#Nota: La clase 1, corresponde a los péptidos que SON antimicrobianos, 0 los que no.\n",
    "# Adicional los datos están desbalanceados en la siguiente relacion 60% son positivos 40% negativos.\n",
    "\n",
    "print('Forma de los datos positivos',data_positiva.shape)\n",
    "print('Forma de los datos negativos',data_negativa.shape)\n",
    "print('Forma de los datos validacion',data_validacion.shape)\n",
    "print('Forma de los datos del preprocesamiento',data_pre.shape)"
   ]
  },
  {
   "cell_type": "markdown",
   "metadata": {},
   "source": [
    "### Preprocesamiento de datos\n",
    "    1.Identificación de colummnas adicionales o diferentes entre los datos\n",
    "    2.Eliminicación de columnas con más 20% de null y nan (Es posible el llenado)\n",
    "    3.Filtrado de varianza\n",
    "    4.Correlación entre las variables numéricas"
   ]
  },
  {
   "cell_type": "code",
   "execution_count": 6,
   "metadata": {},
   "outputs": [
    {
     "name": "stdout",
     "output_type": "stream",
     "text": [
      "Unnamed: 0 No se encuentra\n",
      "Unnamed: 0.1 No se encuentra\n"
     ]
    }
   ],
   "source": [
    "# Encontrar las columnas que no se encuentra en los datasets (positivo, negativo y validación)\n",
    "col_val=data_validacion.columns\n",
    "col_pos=data_positiva.columns\n",
    "col_neg=data_negativa.columns\n",
    "\n",
    "for i in col_val:\n",
    "    if i not in col_neg:\n",
    "        print(i, 'No se encuentra')"
   ]
  },
  {
   "cell_type": "code",
   "execution_count": 38,
   "metadata": {},
   "outputs": [],
   "source": [
    "#Elimianción de columnas con mayor cantidad de null o nan\n",
    "aux=(data_pre.isnull().sum()/len(data_pre))*100\n",
    "col_total=data_pre.columns\n",
    "col_final=[col_total[i] for i in range(len(col_total)) if aux[i]>=20]\n",
    "\n",
    "data_pre=data_pre.drop(col_final,axis=1)"
   ]
  },
  {
   "cell_type": "code",
   "execution_count": null,
   "metadata": {},
   "outputs": [],
   "source": [
    "numeric = train[['Item_Weight', 'Item_Visibility', 'Item_MRP', 'Outlet_Establishment_Year']]\n",
    "var = numeric.var()\n",
    "numeric = numeric.columns\n",
    "variable = [ ]\n",
    "for i in range(0,len(var)):\n",
    "    if var[i]>=10:   #setting the threshold as 10%\n",
    "       variable.append(numeric[i])\n",
    "print(variable)"
   ]
  },
  {
   "cell_type": "code",
   "execution_count": 44,
   "metadata": {},
   "outputs": [
    {
     "data": {
      "text/plain": [
       "length                   57.662224\n",
       "molecular_weight     696597.541314\n",
       "charge                    9.106499\n",
       "charge_density            0.000002\n",
       "isoelectric_point         7.067160\n",
       "                         ...      \n",
       "embed_2_96                0.664676\n",
       "embed_2_97                0.122261\n",
       "embed_2_98                0.099083\n",
       "embed_2_99                0.061636\n",
       "class                     0.247095\n",
       "Length: 1759, dtype: float64"
      ]
     },
     "execution_count": 44,
     "metadata": {},
     "output_type": "execute_result"
    }
   ],
   "source": [
    "data_pre.var()"
   ]
  },
  {
   "cell_type": "code",
   "execution_count": 45,
   "metadata": {},
   "outputs": [
    {
     "ename": "AttributeError",
     "evalue": "'DataFrame' object has no attribute 'isnumeric'",
     "output_type": "error",
     "traceback": [
      "\u001b[1;31m---------------------------------------------------------------------------\u001b[0m",
      "\u001b[1;31mAttributeError\u001b[0m                            Traceback (most recent call last)",
      "\u001b[1;32m<ipython-input-45-dedc91513158>\u001b[0m in \u001b[0;36m<module>\u001b[1;34m\u001b[0m\n\u001b[1;32m----> 1\u001b[1;33m \u001b[0mdata_pre\u001b[0m\u001b[1;33m.\u001b[0m\u001b[0misnumeric\u001b[0m\u001b[1;33m(\u001b[0m\u001b[1;33m)\u001b[0m\u001b[1;33m\u001b[0m\u001b[1;33m\u001b[0m\u001b[0m\n\u001b[0m",
      "\u001b[1;32m~\\Anaconda3\\lib\\site-packages\\pandas\\core\\generic.py\u001b[0m in \u001b[0;36m__getattr__\u001b[1;34m(self, name)\u001b[0m\n\u001b[0;32m   5272\u001b[0m             \u001b[1;32mif\u001b[0m \u001b[0mself\u001b[0m\u001b[1;33m.\u001b[0m\u001b[0m_info_axis\u001b[0m\u001b[1;33m.\u001b[0m\u001b[0m_can_hold_identifiers_and_holds_name\u001b[0m\u001b[1;33m(\u001b[0m\u001b[0mname\u001b[0m\u001b[1;33m)\u001b[0m\u001b[1;33m:\u001b[0m\u001b[1;33m\u001b[0m\u001b[1;33m\u001b[0m\u001b[0m\n\u001b[0;32m   5273\u001b[0m                 \u001b[1;32mreturn\u001b[0m \u001b[0mself\u001b[0m\u001b[1;33m[\u001b[0m\u001b[0mname\u001b[0m\u001b[1;33m]\u001b[0m\u001b[1;33m\u001b[0m\u001b[1;33m\u001b[0m\u001b[0m\n\u001b[1;32m-> 5274\u001b[1;33m             \u001b[1;32mreturn\u001b[0m \u001b[0mobject\u001b[0m\u001b[1;33m.\u001b[0m\u001b[0m__getattribute__\u001b[0m\u001b[1;33m(\u001b[0m\u001b[0mself\u001b[0m\u001b[1;33m,\u001b[0m \u001b[0mname\u001b[0m\u001b[1;33m)\u001b[0m\u001b[1;33m\u001b[0m\u001b[1;33m\u001b[0m\u001b[0m\n\u001b[0m\u001b[0;32m   5275\u001b[0m \u001b[1;33m\u001b[0m\u001b[0m\n\u001b[0;32m   5276\u001b[0m     \u001b[1;32mdef\u001b[0m \u001b[0m__setattr__\u001b[0m\u001b[1;33m(\u001b[0m\u001b[0mself\u001b[0m\u001b[1;33m,\u001b[0m \u001b[0mname\u001b[0m\u001b[1;33m:\u001b[0m \u001b[0mstr\u001b[0m\u001b[1;33m,\u001b[0m \u001b[0mvalue\u001b[0m\u001b[1;33m)\u001b[0m \u001b[1;33m->\u001b[0m \u001b[1;32mNone\u001b[0m\u001b[1;33m:\u001b[0m\u001b[1;33m\u001b[0m\u001b[1;33m\u001b[0m\u001b[0m\n",
      "\u001b[1;31mAttributeError\u001b[0m: 'DataFrame' object has no attribute 'isnumeric'"
     ]
    }
   ],
   "source": [
    "data_pre.isnumeric()"
   ]
  },
  {
   "cell_type": "code",
   "execution_count": 72,
   "metadata": {},
   "outputs": [
    {
     "data": {
      "text/html": [
       "<div>\n",
       "<style scoped>\n",
       "    .dataframe tbody tr th:only-of-type {\n",
       "        vertical-align: middle;\n",
       "    }\n",
       "\n",
       "    .dataframe tbody tr th {\n",
       "        vertical-align: top;\n",
       "    }\n",
       "\n",
       "    .dataframe thead th {\n",
       "        text-align: right;\n",
       "    }\n",
       "</style>\n",
       "<table border=\"1\" class=\"dataframe\">\n",
       "  <thead>\n",
       "    <tr style=\"text-align: right;\">\n",
       "      <th></th>\n",
       "      <th>Unnamed: 0.1</th>\n",
       "      <th>Unnamed: 0</th>\n",
       "    </tr>\n",
       "  </thead>\n",
       "  <tbody>\n",
       "    <tr>\n",
       "      <th>Unnamed: 0.1</th>\n",
       "      <td>1.000000</td>\n",
       "      <td>0.999996</td>\n",
       "    </tr>\n",
       "    <tr>\n",
       "      <th>Unnamed: 0</th>\n",
       "      <td>0.999996</td>\n",
       "      <td>1.000000</td>\n",
       "    </tr>\n",
       "  </tbody>\n",
       "</table>\n",
       "</div>"
      ],
      "text/plain": [
       "              Unnamed: 0.1  Unnamed: 0\n",
       "Unnamed: 0.1      1.000000    0.999996\n",
       "Unnamed: 0        0.999996    1.000000"
      ]
     },
     "execution_count": 72,
     "metadata": {},
     "output_type": "execute_result"
    }
   ],
   "source": [
    "aux=data_validacion[['Unnamed: 0.1','Unnamed: 0']]\n",
    "aux.corr()"
   ]
  },
  {
   "cell_type": "code",
   "execution_count": 19,
   "metadata": {},
   "outputs": [
    {
     "name": "stdout",
     "output_type": "stream",
     "text": [
      "(13883, 1761)\n"
     ]
    },
    {
     "data": {
      "text/plain": [
       "Index(['Unnamed: 0', 'sequence', 'length', 'molecular_weight', 'charge',\n",
       "       'charge_density', 'isoelectric_point', 'gravy', 'instability_index',\n",
       "       'aromaticity',\n",
       "       ...\n",
       "       'embed_2_91', 'embed_2_92', 'embed_2_93', 'embed_2_94', 'embed_2_95',\n",
       "       'embed_2_96', 'embed_2_97', 'embed_2_98', 'embed_2_99', 'class'],\n",
       "      dtype='object', length=1761)"
      ]
     },
     "execution_count": 19,
     "metadata": {},
     "output_type": "execute_result"
    }
   ],
   "source": [
    "print(data_train.shape)\n",
    "data_train.head()\n",
    "data_train.columns"
   ]
  },
  {
   "cell_type": "markdown",
   "metadata": {},
   "source": [
    "### Estandariazación de los datos"
   ]
  },
  {
   "cell_type": "code",
   "execution_count": 21,
   "metadata": {},
   "outputs": [],
   "source": [
    "#scaler=StandardScaler()\n",
    "#aata_std=scaler.fit(data_train)"
   ]
  },
  {
   "cell_type": "code",
   "execution_count": null,
   "metadata": {},
   "outputs": [],
   "source": []
  }
 ],
 "metadata": {
  "kernelspec": {
   "display_name": "Python 3",
   "language": "python",
   "name": "python3"
  },
  "language_info": {
   "codemirror_mode": {
    "name": "ipython",
    "version": 3
   },
   "file_extension": ".py",
   "mimetype": "text/x-python",
   "name": "python",
   "nbconvert_exporter": "python",
   "pygments_lexer": "ipython3",
   "version": "3.7.1"
  }
 },
 "nbformat": 4,
 "nbformat_minor": 4
}
