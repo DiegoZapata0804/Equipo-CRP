{
 "cells": [
  {
   "cell_type": "markdown",
   "metadata": {
    "colab_type": "text",
    "id": "NaD5Pl3QOkNN"
   },
   "source": [
    "# Competencia: Clasificación de Péptidos Antimicrobianos\n",
    "\n",
    "El equipo está conformado por:\n",
    "\n",
    "    Angie Melissa Calderón Albarracin\n",
    "    Diego Alejandro Zapata Alcaraz\n",
    "    Juan David Valencia Quiceno\n",
    "    Juan Esteban Arroyave Duque"
   ]
  },
  {
   "cell_type": "markdown",
   "metadata": {
    "colab_type": "text",
    "id": "p9vWHlHfjS9x"
   },
   "source": [
    "### Obtención de los datos"
   ]
  },
  {
   "cell_type": "code",
   "execution_count": 4,
   "metadata": {
    "colab": {
     "base_uri": "https://localhost:8080/",
     "height": 54
    },
    "colab_type": "code",
    "id": "wOBfvB9NS9SR",
    "outputId": "60f30367-3c05-448b-a373-a0c977a6bcbc"
   },
   "outputs": [
    {
     "ename": "ModuleNotFoundError",
     "evalue": "No module named 'google.colab'",
     "output_type": "error",
     "traceback": [
      "\u001b[1;31m---------------------------------------------------------------------------\u001b[0m",
      "\u001b[1;31mModuleNotFoundError\u001b[0m                       Traceback (most recent call last)",
      "\u001b[1;32m<ipython-input-4-d5df0069828e>\u001b[0m in \u001b[0;36m<module>\u001b[1;34m\u001b[0m\n\u001b[1;32m----> 1\u001b[1;33m \u001b[1;32mfrom\u001b[0m \u001b[0mgoogle\u001b[0m\u001b[1;33m.\u001b[0m\u001b[0mcolab\u001b[0m \u001b[1;32mimport\u001b[0m \u001b[0mdrive\u001b[0m\u001b[1;33m\u001b[0m\u001b[1;33m\u001b[0m\u001b[0m\n\u001b[0m\u001b[0;32m      2\u001b[0m \u001b[0mdrive\u001b[0m\u001b[1;33m.\u001b[0m\u001b[0mmount\u001b[0m\u001b[1;33m(\u001b[0m\u001b[1;34m'/content/drive'\u001b[0m\u001b[1;33m)\u001b[0m\u001b[1;33m\u001b[0m\u001b[1;33m\u001b[0m\u001b[0m\n",
      "\u001b[1;31mModuleNotFoundError\u001b[0m: No module named 'google.colab'"
     ]
    }
   ],
   "source": [
    "from google.colab import drive\n",
    "drive.mount('/content/drive')"
   ]
  },
  {
   "cell_type": "code",
   "execution_count": 115,
   "metadata": {
    "colab": {
     "base_uri": "https://localhost:8080/",
     "height": 63
    },
    "colab_type": "code",
    "id": "LTt7V7_WOkNQ",
    "outputId": "e4ce76c4-e9f3-4459-c76b-5a0e3de1fad8"
   },
   "outputs": [],
   "source": [
    "#Importar paquetes\n",
    "import pandas as pd\n",
    "import numpy as np\n",
    "import cv2\n",
    "import matplotlib.pyplot as plt\n",
    "import seaborn as sns\n",
    "from sklearn.preprocessing import StandardScaler\n",
    "from sklearn.model_selection import train_test_split\n",
    "from sklearn.linear_model import LogisticRegression\n",
    "from sklearn.svm import SVC \n",
    "from sklearn import naive_bayes\n",
    "from sklearn.tree import DecisionTreeClassifier\n",
    "from sklearn.ensemble import RandomForestClassifier\n",
    "import tensorflow as ts\n",
    "from tensorflow.keras.models import Sequential\n",
    "from tensorflow.keras.layers import Dense\n",
    "from tensorflow.keras import backend as K\n",
    "from sklearn.model_selection import cross_val_score\n",
    "from sklearn.model_selection import KFold\n",
    "from sklearn.metrics import accuracy_score\n",
    "from sklearn.metrics import precision_score\n",
    "from sklearn.metrics import confusion_matrix\n",
    "from sklearn.metrics import recall_score\n",
    "from sklearn.metrics import f1_score\n",
    "from sklearn.metrics import classification_report\n",
    "\n",
    "from sklearn.manifold import TSNE\n",
    "from sklearn.feature_selection import RFE\n",
    "from sklearn.decomposition import PCA"
   ]
  },
  {
   "cell_type": "code",
   "execution_count": 116,
   "metadata": {
    "colab": {
     "base_uri": "https://localhost:8080/",
     "height": 241
    },
    "colab_type": "code",
    "id": "1mRgwofiOkNa",
    "outputId": "c3252ac5-898b-4c44-97be-136ef25aec17"
   },
   "outputs": [
    {
     "name": "stdout",
     "output_type": "stream",
     "text": [
      "Forma de los datos positivos (8322, 1762)\n",
      "Forma de los datos negativos (5561, 1761)\n",
      "Forma de los datos validacion (1623, 1763)\n",
      "Forma de los datos del preprocesamiento (15506, 1763)\n"
     ]
    }
   ],
   "source": [
    "#Cargar la data\n",
    "data_positiva=pd.read_csv('Datos/DatosPositivos1.csv')\n",
    "data_negativa=pd.read_csv('Datos/DatosNegativos1.csv')\n",
    "data_validacion=pd.read_csv('Datos/DatosValidacion1.csv')\n",
    "\n",
    "data_positiva['Tipo']='Train'\n",
    "data_negativa['Tipo']='Train'\n",
    "data_validacion['Tipo']='Test'\n",
    "\n",
    "data_pre=pd.concat([data_positiva,data_negativa,data_validacion])\n",
    "#Nota: La clase 1, corresponde a los péptidos que SON antimicrobianos, 0 los que no.\n",
    "# Adicional los datos están desbalanceados en la siguiente relacion 60% son positivos 40% negativos.\n",
    "\n",
    "print('Forma de los datos positivos',data_positiva.shape)\n",
    "print('Forma de los datos negativos',data_negativa.shape)\n",
    "print('Forma de los datos validacion',data_validacion.shape)\n",
    "print('Forma de los datos del preprocesamiento',data_pre.shape)"
   ]
  },
  {
   "cell_type": "markdown",
   "metadata": {
    "colab_type": "text",
    "id": "lvApxEBnjfdv"
   },
   "source": [
    "## Parte 1"
   ]
  },
  {
   "cell_type": "markdown",
   "metadata": {
    "colab_type": "text",
    "id": "c-JMSFO2OkNm"
   },
   "source": [
    "### Preprocesamiento de datos\n",
    "    1.Identificación de colummnas adicionales o diferentes entre los datos\n",
    "    2.Eliminicación de columnas con más 1% de null y nan\n"
   ]
  },
  {
   "cell_type": "code",
   "execution_count": 117,
   "metadata": {
    "colab": {},
    "colab_type": "code",
    "id": "gFaIvd5jOkNq"
   },
   "outputs": [
    {
     "name": "stdout",
     "output_type": "stream",
     "text": [
      "Unnamed: 0 No se encuentra\n",
      "Unnamed: 0.1 No se encuentra\n"
     ]
    }
   ],
   "source": [
    "# Encontrar las columnas que no se encuentra en los datasets (positivo, negativo y validación)\n",
    "col_val=data_validacion.columns\n",
    "col_pos=data_positiva.columns\n",
    "col_neg=data_negativa.columns\n",
    "\n",
    "for i in col_val:\n",
    "    if i not in col_neg:\n",
    "        print(i, 'No se encuentra')"
   ]
  },
  {
   "cell_type": "code",
   "execution_count": 118,
   "metadata": {
    "colab": {
     "base_uri": "https://localhost:8080/",
     "height": 34
    },
    "colab_type": "code",
    "id": "frzRyQV7OkNy",
    "outputId": "6a435512-2d04-496f-edb7-1ca431c4ce0d"
   },
   "outputs": [
    {
     "data": {
      "text/plain": [
       "(15506, 1761)"
      ]
     },
     "execution_count": 118,
     "metadata": {},
     "output_type": "execute_result"
    }
   ],
   "source": [
    "#Elimianción de columnas con mayor cantidad de null o nan\n",
    "aux=(data_pre.isnull().sum()/len(data_pre))*100\n",
    "col_total=data_pre.columns\n",
    "col_remove=[col_total[i] for i in range(len(col_total)) if aux[i]>=1]\n",
    "\n",
    "data_pre=data_pre.drop(col_remove,axis=1)\n",
    "data_pre.shape"
   ]
  },
  {
   "cell_type": "markdown",
   "metadata": {
    "colab_type": "text",
    "id": "rwwB2XO9OkOa"
   },
   "source": [
    "### Estandariazación de los datos"
   ]
  },
  {
   "cell_type": "code",
   "execution_count": 119,
   "metadata": {
    "colab": {},
    "colab_type": "code",
    "id": "Pg9anpX8OkOk"
   },
   "outputs": [],
   "source": [
    "#Volviendo a la estructura original\n",
    "data_train=data_pre[data_pre['Tipo']=='Train']\n",
    "data_val=data_pre[data_pre['Tipo']=='Test']\n",
    "\n",
    "data_train=data_train.drop(['Tipo'],axis=1)\n",
    "data_test=data_val.drop(['Tipo'],axis=1)\n",
    "\n",
    "y=data_train.pop('class')\n",
    "X=data_train\n",
    "\n",
    "y_val=data_val.pop('class')\n",
    "X_val=data_val"
   ]
  },
  {
   "cell_type": "code",
   "execution_count": 120,
   "metadata": {
    "colab": {},
    "colab_type": "code",
    "id": "GnWtF477OkPA"
   },
   "outputs": [],
   "source": [
    "#Realizamos un partición de los datos: 80% train y 20% test\n",
    "X_train, X_test, y_train, y_test = train_test_split(X, y, test_size=0.2, random_state=0)"
   ]
  },
  {
   "cell_type": "code",
   "execution_count": 121,
   "metadata": {
    "colab": {},
    "colab_type": "code",
    "id": "dGpCqHJMOkOz"
   },
   "outputs": [],
   "source": [
    "#Extraer la columnas con valores numéricos\n",
    "col_num=[i for i in X_train.columns if \"int\" in str(X_train[i].dtype) or \"float\" in str(X_train[i].dtype)]\n",
    "\n",
    "#Ceación del modelo de normalización y aplicación\n",
    "scaler=StandardScaler()\n",
    "X_train_std=scaler.fit_transform(X_train[col_num])\n",
    "X_test_std=scaler.transform(X_test[col_num])\n",
    "X_val_std=scaler.transform(X_val[col_num])"
   ]
  },
  {
   "cell_type": "markdown",
   "metadata": {
    "colab_type": "text",
    "id": "kA1eeGmsOkPP"
   },
   "source": [
    "### Implementación de los modelos de clasificación\n",
    "\n",
    "Los modelos con los cuales trabajaremos son:\n",
    "    \n",
    "    1.LogisticRegressor\n",
    "    2.SVM (Lineal, Radial y Polinomial)\n",
    "    3.Naive Bayes\n",
    "    4.Red Neuronal\n",
    "    5.RandomForest"
   ]
  },
  {
   "cell_type": "code",
   "execution_count": 122,
   "metadata": {
    "colab": {
     "base_uri": "https://localhost:8080/",
     "height": 102
    },
    "colab_type": "code",
    "id": "Khhy3_yfOkPR",
    "outputId": "e5627fb0-952e-4257-e258-0b45608687c9"
   },
   "outputs": [
    {
     "data": {
      "text/plain": [
       "LogisticRegression(C=1.0, class_weight=None, dual=False, fit_intercept=True,\n",
       "                   intercept_scaling=1, l1_ratio=None, max_iter=100,\n",
       "                   multi_class='auto', n_jobs=None, penalty='l2',\n",
       "                   random_state=None, solver='liblinear', tol=0.0001, verbose=0,\n",
       "                   warm_start=False)"
      ]
     },
     "execution_count": 122,
     "metadata": {},
     "output_type": "execute_result"
    }
   ],
   "source": [
    "#Regresión Logistica\n",
    "lr = LogisticRegression(solver='liblinear')\n",
    "lr.fit(X_train_std,y_train)"
   ]
  },
  {
   "cell_type": "code",
   "execution_count": 8,
   "metadata": {
    "colab": {
     "base_uri": "https://localhost:8080/",
     "height": 34
    },
    "colab_type": "code",
    "id": "rm-iMV5NOkPW",
    "outputId": "11eb5460-8e52-41db-bb05-9fe1e69984ca"
   },
   "outputs": [
    {
     "name": "stdout",
     "output_type": "stream",
     "text": [
      "Precisión del clasificador Logística: 87.36 \n"
     ]
    }
   ],
   "source": [
    "y_pred = lr.predict(X_test_std)\n",
    "acc = accuracy_score(y_test, y_pred)\n",
    "print (\"Precisión del clasificador Logística: %.2f \" %(acc*100) )"
   ]
  },
  {
   "cell_type": "code",
   "execution_count": null,
   "metadata": {
    "colab": {
     "base_uri": "https://localhost:8080/",
     "height": 85
    },
    "colab_type": "code",
    "id": "4zpbR9sXOkPc",
    "outputId": "d0ee9b90-162e-4e24-ee04-9447077187ea"
   },
   "outputs": [],
   "source": [
    "# SVM\n",
    "#Una SVM Lineal, SVM de base Radial y SVM Polinomial\n",
    "#svm_lineal = SVC(kernel='linear', C=1.0, random_state=0)\n",
    "svm_rbf = SVC(kernel='rbf', C=2.0, random_state=1)\n",
    "#svm_poly = SVC(kernel='poly', C=1.0, random_state=0)\n",
    "\n",
    "# Entrenamos los modelos\n",
    "#svm_lineal.fit(X_train_std, y_train)\n",
    "svm_rbf.fit(X_train_std, y_train)\n",
    "#svm_poly.fit(X_train_std, y_train)"
   ]
  },
  {
   "cell_type": "code",
   "execution_count": 10,
   "metadata": {
    "colab": {
     "base_uri": "https://localhost:8080/",
     "height": 68
    },
    "colab_type": "code",
    "id": "HpW9H_H0OkPh",
    "outputId": "828b0e89-bf15-464d-b18c-6e7e54102e51"
   },
   "outputs": [
    {
     "name": "stdout",
     "output_type": "stream",
     "text": [
      "Precisión del clasificador Radial: 91.18 \n"
     ]
    }
   ],
   "source": [
    "#y_pred = svm_lineal.predict(X_test_std)\n",
    "#acc = accuracy_score(y_test, y_pred)\n",
    "#print (\"Precisión del clasificador Lineal: %.2f \" %(acc*100.0))\n",
    "\n",
    "y_pred = svm_rbf.predict(X_test_std)\n",
    "acc = accuracy_score(y_test, y_pred)\n",
    "print (\"Precisión del clasificador Radial: %.2f \" %(acc*100.0))\n",
    "\n",
    "#y_pred = svm_poly.predict(X_test_std)\n",
    "#acc = accuracy_score(y_test, y_pred)\n",
    "#print (\"Precisión del clasificador Polinomial: %.2f \" %(acc*100.0))"
   ]
  },
  {
   "cell_type": "code",
   "execution_count": null,
   "metadata": {
    "colab": {
     "base_uri": "https://localhost:8080/",
     "height": 34
    },
    "colab_type": "code",
    "id": "hFGu4pBjOkPt",
    "outputId": "5ca122ad-97c4-427d-c032-ca1523bc9e90"
   },
   "outputs": [],
   "source": [
    "#Naive Bayes\n",
    "nv = naive_bayes.GaussianNB()\n",
    "nv.fit(X_train_std,y_train)"
   ]
  },
  {
   "cell_type": "code",
   "execution_count": 13,
   "metadata": {
    "colab": {
     "base_uri": "https://localhost:8080/",
     "height": 34
    },
    "colab_type": "code",
    "id": "x5cr_dR4OkP1",
    "outputId": "b9b381c7-1514-4d17-a9a9-688a8538ea60"
   },
   "outputs": [
    {
     "name": "stdout",
     "output_type": "stream",
     "text": [
      "Precisión del clasificador Naive Bayes: 75.77 \n"
     ]
    }
   ],
   "source": [
    "y_pred = nv.predict(X_test_std)\n",
    "acc = accuracy_score(y_test, y_pred)\n",
    "print (\"Precisión del clasificador Naive Bayes: %.2f \" %(acc*100.0))"
   ]
  },
  {
   "cell_type": "code",
   "execution_count": null,
   "metadata": {
    "colab": {
     "base_uri": "https://localhost:8080/",
     "height": 153
    },
    "colab_type": "code",
    "id": "aFhGqQl4ccHM",
    "outputId": "67ae745b-5610-4c04-96a0-cc9c261213cf"
   },
   "outputs": [],
   "source": [
    "#Random Forest\n",
    "rf = RandomForestClassifier(n_estimators=50,max_depth=None)\n",
    "rf.fit(X_train[col_num], y_train)"
   ]
  },
  {
   "cell_type": "code",
   "execution_count": 15,
   "metadata": {
    "colab": {
     "base_uri": "https://localhost:8080/",
     "height": 34
    },
    "colab_type": "code",
    "id": "vgzJcprMe9S9",
    "outputId": "5685e631-cd16-4d6d-d133-ffd7ca96be6a"
   },
   "outputs": [
    {
     "name": "stdout",
     "output_type": "stream",
     "text": [
      "Precisión del clasificador RandomForest: 90.75 \n"
     ]
    }
   ],
   "source": [
    "#Random Forest\n",
    "rf = RandomForestClassifier(n_estimators=50,max_depth=None)\n",
    "rf.fit(X_train[col_num], y_train)\n",
    "y_pred=rf.predict(X_test[col_num])\n",
    "acc = accuracy_score(y_test, y_pred)\n",
    "print (\"Precisión del clasificador RandomForest: %.2f \" %(acc*100.0))"
   ]
  },
  {
   "cell_type": "code",
   "execution_count": null,
   "metadata": {
    "colab": {
     "base_uri": "https://localhost:8080/",
     "height": 139
    },
    "colab_type": "code",
    "id": "4LictMiNOkQJ",
    "outputId": "950d3875-4e0d-413b-dc28-b7a67eb87292"
   },
   "outputs": [],
   "source": [
    "#Red Neuronal\n",
    "model = Sequential([Dense(units=50, input_dim=1758,activation='tanh'),\n",
    "                    Dense(units=20, activation='tanh'),\n",
    "                    Dense(units=1, activation='sigmoid')])\n",
    "\n",
    "model.compile(optimizer='nadam', \n",
    "              loss='binary_crossentropy',\n",
    "              metrics=['acc'])\n",
    "\n",
    "history = model.fit(X_train[col_num],y_train, validation_data=(X_test[col_num],y_test), epochs=300, verbose=0)"
   ]
  },
  {
   "cell_type": "code",
   "execution_count": 114,
   "metadata": {
    "colab": {
     "base_uri": "https://localhost:8080/",
     "height": 1000
    },
    "colab_type": "code",
    "id": "-fUlcZq1yEln",
    "outputId": "841605b3-a9d2-4219-fa00-c979c4a1554c"
   },
   "outputs": [
    {
     "name": "stdout",
     "output_type": "stream",
     "text": [
      "2777/2777 [==============================] - 0s 64us/sample - loss: 0.3829 - acc: 0.8444\n",
      "Precisión del clasificador NN: 84.44\n"
     ]
    }
   ],
   "source": [
    "#model.fit(X_train[col_num1], y_train, epochs=300)\n",
    "test_loss, test_acc= model.evaluate(X_test[col_num],y_test)\n",
    "print('Precisión del clasificador NN: %.2f' %(test_acc*100))"
   ]
  },
  {
   "cell_type": "markdown",
   "metadata": {
    "colab_type": "text",
    "id": "-BG_XUP9vdIa"
   },
   "source": [
    "### Validación Cruzada"
   ]
  },
  {
   "cell_type": "code",
   "execution_count": 0,
   "metadata": {
    "colab": {
     "base_uri": "https://localhost:8080/",
     "height": 105
    },
    "colab_type": "code",
    "id": "gm5nJ_XW4Jq0",
    "outputId": "cdcda76e-8359-49d5-9cc2-9a9a8b184627"
   },
   "outputs": [
    {
     "name": "stdout",
     "output_type": "stream",
     "text": [
      "Precisión Regresión Logística: 0.8386 (+/- 0.13)\n",
      "[0.90665514 0.87237107 0.83981562 0.73573487]\n"
     ]
    },
    {
     "name": "stderr",
     "output_type": "stream",
     "text": [
      "/usr/local/lib/python3.6/dist-packages/sklearn/svm/_base.py:947: ConvergenceWarning: Liblinear failed to converge, increase the number of iterations.\n",
      "  \"the number of iterations.\", ConvergenceWarning)\n"
     ]
    }
   ],
   "source": [
    "# Regresión Logística\n",
    "scores_lr = cross_val_score(lr, X[col_num1], y, cv=4)\n",
    "print (\"Precisión Regresión Logística: %0.4f (+/- %0.2f)\" % (scores_lr.mean(), scores_lr.std()*2))\n",
    "print(scores_lr)"
   ]
  },
  {
   "cell_type": "code",
   "execution_count": 0,
   "metadata": {
    "colab": {
     "base_uri": "https://localhost:8080/",
     "height": 51
    },
    "colab_type": "code",
    "id": "_AUuhsz0caK0",
    "outputId": "656b5ffb-82c8-46af-ba4c-93d65418ce32"
   },
   "outputs": [
    {
     "name": "stdout",
     "output_type": "stream",
     "text": [
      "Precisión SVM Radial: 0.7388 (+/- 0.13)\n",
      "[0.7758571  0.82829156 0.66349755 0.68760807]\n"
     ]
    }
   ],
   "source": [
    "# SVM Radial\n",
    "scores_svm_rbf = cross_val_score(svm_rbf, X[col_num1], y, cv=4)\n",
    "print(\"Precisión SVM Radial: %0.4f (+/- %0.2f)\" % (scores_svm_rbf.mean(), scores_svm_rbf.std()*2))\n",
    "print(scores_svm_rbf)"
   ]
  },
  {
   "cell_type": "code",
   "execution_count": 0,
   "metadata": {
    "colab": {
     "base_uri": "https://localhost:8080/",
     "height": 51
    },
    "colab_type": "code",
    "id": "PtvmaVBnchYk",
    "outputId": "3ef99439-6b63-4141-aa47-fd64455a3904"
   },
   "outputs": [
    {
     "name": "stdout",
     "output_type": "stream",
     "text": [
      "Precisión Naive Bayes: 0.6592 (+/- 0.22)\n",
      "[0.70498415 0.74099683 0.47248632 0.7184438 ]\n"
     ]
    }
   ],
   "source": [
    "# Naive Bayes\n",
    "scores_nv = cross_val_score(nv, X[col_num1], y, cv=4)\n",
    "print(\"Precisión Naive Bayes: %0.4f (+/- %0.2f)\" % (scores_nv.mean(), scores_nv.std()*2))\n",
    "print(scores_nv)"
   ]
  },
  {
   "cell_type": "code",
   "execution_count": 0,
   "metadata": {
    "colab": {
     "base_uri": "https://localhost:8080/",
     "height": 51
    },
    "colab_type": "code",
    "id": "AyjD-DSCcj7y",
    "outputId": "ce9886a7-b985-4381-da17-d1b80de8da75"
   },
   "outputs": [
    {
     "name": "stdout",
     "output_type": "stream",
     "text": [
      "Precisión Bosque Aleatorios: 0.7738 (+/- 0.18)\n",
      "[0.70123884 0.91385768 0.78594065 0.69423631]\n"
     ]
    }
   ],
   "source": [
    "# Random Forest\n",
    "scores_rf = cross_val_score(rf, X[col_num1], y, cv=4)\n",
    "print(\"Precisión Bosque Aleatorios: %0.4f (+/- %0.2f)\" % (scores_rf.mean(), scores_rf.std()*2))\n",
    "print(scores_rf)"
   ]
  },
  {
   "cell_type": "code",
   "execution_count": 0,
   "metadata": {
    "colab": {
     "base_uri": "https://localhost:8080/",
     "height": 1000
    },
    "colab_type": "code",
    "id": "up0GXdjBGwYd",
    "outputId": "4c68cadf-b8d8-47a9-e928-f45c592430f8"
   },
   "outputs": [
    {
     "name": "stdout",
     "output_type": "stream",
     "text": [
      "Train on 9255 samples\n",
      "Epoch 1/100\n",
      "9255/9255 [==============================] - 2s 202us/sample - loss: 0.6408 - acc: 0.6406\n",
      "Epoch 2/100\n",
      "9255/9255 [==============================] - 2s 182us/sample - loss: 0.5593 - acc: 0.7259\n",
      "Epoch 3/100\n",
      "9255/9255 [==============================] - 2s 182us/sample - loss: 0.4777 - acc: 0.8024\n",
      "Epoch 4/100\n",
      "9255/9255 [==============================] - 2s 184us/sample - loss: 0.4395 - acc: 0.8224\n",
      "Epoch 5/100\n",
      "9255/9255 [==============================] - 2s 184us/sample - loss: 0.4099 - acc: 0.8464\n",
      "Epoch 6/100\n",
      "9255/9255 [==============================] - 2s 179us/sample - loss: 0.4247 - acc: 0.8434\n",
      "Epoch 7/100\n",
      "9255/9255 [==============================] - 2s 181us/sample - loss: 0.4344 - acc: 0.8350\n",
      "Epoch 8/100\n",
      "9255/9255 [==============================] - 2s 180us/sample - loss: 0.4070 - acc: 0.8549\n",
      "Epoch 9/100\n",
      "9255/9255 [==============================] - 2s 180us/sample - loss: 0.4086 - acc: 0.8546\n",
      "Epoch 10/100\n",
      "9255/9255 [==============================] - 2s 181us/sample - loss: 0.4019 - acc: 0.8535\n",
      "Epoch 11/100\n",
      "9255/9255 [==============================] - 2s 184us/sample - loss: 0.4032 - acc: 0.8568\n",
      "Epoch 12/100\n",
      "9255/9255 [==============================] - 2s 179us/sample - loss: 0.3897 - acc: 0.8646\n",
      "Epoch 13/100\n",
      "9255/9255 [==============================] - 2s 179us/sample - loss: 0.3929 - acc: 0.8625\n",
      "Epoch 14/100\n",
      "9255/9255 [==============================] - 2s 181us/sample - loss: 0.3838 - acc: 0.8665\n",
      "Epoch 15/100\n",
      "9255/9255 [==============================] - 2s 180us/sample - loss: 0.3684 - acc: 0.8757\n",
      "Epoch 16/100\n",
      "9255/9255 [==============================] - 2s 183us/sample - loss: 0.3971 - acc: 0.8606\n",
      "Epoch 17/100\n",
      "9255/9255 [==============================] - 2s 180us/sample - loss: 0.3700 - acc: 0.8765\n",
      "Epoch 18/100\n",
      "9255/9255 [==============================] - 2s 178us/sample - loss: 0.3677 - acc: 0.8752\n",
      "Epoch 19/100\n",
      "9255/9255 [==============================] - 2s 182us/sample - loss: 0.3713 - acc: 0.8727\n",
      "Epoch 20/100\n",
      "9255/9255 [==============================] - 2s 182us/sample - loss: 0.3525 - acc: 0.8838\n",
      "Epoch 21/100\n",
      "9255/9255 [==============================] - 2s 180us/sample - loss: 0.3537 - acc: 0.8820\n",
      "Epoch 22/100\n",
      "9255/9255 [==============================] - 2s 179us/sample - loss: 0.3552 - acc: 0.8814\n",
      "Epoch 23/100\n",
      "9255/9255 [==============================] - 2s 179us/sample - loss: 0.3607 - acc: 0.8790\n",
      "Epoch 24/100\n",
      "9255/9255 [==============================] - 2s 177us/sample - loss: 0.3554 - acc: 0.8816\n",
      "Epoch 25/100\n",
      "9255/9255 [==============================] - 2s 176us/sample - loss: 0.3476 - acc: 0.8868\n",
      "Epoch 26/100\n",
      "9255/9255 [==============================] - 2s 181us/sample - loss: 0.3454 - acc: 0.8859\n",
      "Epoch 27/100\n",
      "9255/9255 [==============================] - 2s 179us/sample - loss: 0.3639 - acc: 0.8787\n",
      "Epoch 28/100\n",
      "9255/9255 [==============================] - 2s 178us/sample - loss: 0.3525 - acc: 0.8842\n",
      "Epoch 29/100\n",
      "9255/9255 [==============================] - 2s 181us/sample - loss: 0.3478 - acc: 0.8859\n",
      "Epoch 30/100\n",
      "9255/9255 [==============================] - 2s 179us/sample - loss: 0.3532 - acc: 0.8821\n",
      "Epoch 31/100\n",
      "9255/9255 [==============================] - 2s 177us/sample - loss: 0.3909 - acc: 0.8509\n",
      "Epoch 32/100\n",
      "9255/9255 [==============================] - 2s 183us/sample - loss: 0.3504 - acc: 0.8837\n",
      "Epoch 33/100\n",
      "9255/9255 [==============================] - 2s 181us/sample - loss: 0.3406 - acc: 0.8902\n",
      "Epoch 34/100\n",
      "9255/9255 [==============================] - 2s 182us/sample - loss: 0.3385 - acc: 0.8902\n",
      "Epoch 35/100\n",
      "9255/9255 [==============================] - 2s 180us/sample - loss: 0.3380 - acc: 0.8911\n",
      "Epoch 36/100\n",
      "9255/9255 [==============================] - 2s 179us/sample - loss: 0.3661 - acc: 0.8773\n",
      "Epoch 37/100\n",
      "9255/9255 [==============================] - 2s 179us/sample - loss: 0.3387 - acc: 0.8912\n",
      "Epoch 38/100\n",
      "9255/9255 [==============================] - 2s 183us/sample - loss: 0.3339 - acc: 0.8938\n",
      "Epoch 39/100\n",
      "9255/9255 [==============================] - 2s 179us/sample - loss: 0.3319 - acc: 0.8944\n",
      "Epoch 40/100\n",
      "9255/9255 [==============================] - 2s 181us/sample - loss: 0.3511 - acc: 0.8808\n",
      "Epoch 41/100\n",
      "9255/9255 [==============================] - 2s 177us/sample - loss: 0.3390 - acc: 0.8902\n",
      "Epoch 42/100\n",
      "9255/9255 [==============================] - 2s 181us/sample - loss: 0.3247 - acc: 0.8952\n",
      "Epoch 43/100\n",
      "9255/9255 [==============================] - 2s 180us/sample - loss: 0.3352 - acc: 0.8949\n",
      "Epoch 44/100\n",
      "9255/9255 [==============================] - 2s 181us/sample - loss: 0.3359 - acc: 0.8931\n",
      "Epoch 45/100\n",
      "9255/9255 [==============================] - 2s 181us/sample - loss: 0.3312 - acc: 0.8941\n",
      "Epoch 46/100\n",
      "9255/9255 [==============================] - 2s 179us/sample - loss: 0.3314 - acc: 0.8924\n",
      "Epoch 47/100\n",
      "9255/9255 [==============================] - 2s 180us/sample - loss: 0.3432 - acc: 0.8865\n",
      "Epoch 48/100\n",
      "9255/9255 [==============================] - 2s 177us/sample - loss: 0.3459 - acc: 0.8843\n",
      "Epoch 49/100\n",
      "9255/9255 [==============================] - 2s 179us/sample - loss: 0.3201 - acc: 0.8981\n",
      "Epoch 50/100\n",
      "9255/9255 [==============================] - 2s 178us/sample - loss: 0.3261 - acc: 0.8958\n",
      "Epoch 51/100\n",
      "9255/9255 [==============================] - 2s 180us/sample - loss: 0.3242 - acc: 0.8945\n",
      "Epoch 52/100\n",
      "9255/9255 [==============================] - 2s 178us/sample - loss: 0.3226 - acc: 0.8982\n",
      "Epoch 53/100\n",
      "9255/9255 [==============================] - 2s 181us/sample - loss: 0.3247 - acc: 0.8954\n",
      "Epoch 54/100\n",
      "9255/9255 [==============================] - 2s 177us/sample - loss: 0.3282 - acc: 0.8944\n",
      "Epoch 55/100\n",
      "9255/9255 [==============================] - 2s 181us/sample - loss: 0.3533 - acc: 0.8818\n",
      "Epoch 56/100\n",
      "9255/9255 [==============================] - 2s 177us/sample - loss: 0.3209 - acc: 0.8976\n",
      "Epoch 57/100\n",
      "9255/9255 [==============================] - 2s 179us/sample - loss: 0.3426 - acc: 0.8834\n",
      "Epoch 58/100\n",
      "9255/9255 [==============================] - 2s 177us/sample - loss: 0.3329 - acc: 0.8931\n",
      "Epoch 59/100\n",
      "9255/9255 [==============================] - 2s 178us/sample - loss: 0.3378 - acc: 0.8894\n",
      "Epoch 60/100\n",
      "9255/9255 [==============================] - 2s 179us/sample - loss: 0.3319 - acc: 0.8935\n",
      "Epoch 61/100\n",
      "9255/9255 [==============================] - 2s 180us/sample - loss: 0.3188 - acc: 0.9010\n",
      "Epoch 62/100\n",
      "9255/9255 [==============================] - 2s 178us/sample - loss: 0.3340 - acc: 0.8923\n",
      "Epoch 63/100\n",
      "9255/9255 [==============================] - 2s 181us/sample - loss: 0.3053 - acc: 0.9034\n",
      "Epoch 64/100\n",
      "9255/9255 [==============================] - 2s 175us/sample - loss: 0.3080 - acc: 0.9022\n",
      "Epoch 65/100\n",
      "9255/9255 [==============================] - 2s 178us/sample - loss: 0.3216 - acc: 0.8967\n",
      "Epoch 66/100\n",
      "9255/9255 [==============================] - 2s 180us/sample - loss: 0.3308 - acc: 0.8922\n",
      "Epoch 67/100\n",
      "9255/9255 [==============================] - 2s 176us/sample - loss: 0.3284 - acc: 0.8949\n",
      "Epoch 68/100\n",
      "9255/9255 [==============================] - 2s 179us/sample - loss: 0.3212 - acc: 0.8974\n",
      "Epoch 69/100\n",
      "9255/9255 [==============================] - 2s 182us/sample - loss: 0.3163 - acc: 0.8992\n",
      "Epoch 70/100\n",
      "9255/9255 [==============================] - 2s 178us/sample - loss: 0.3303 - acc: 0.8924\n",
      "Epoch 71/100\n",
      "9255/9255 [==============================] - 2s 178us/sample - loss: 0.3340 - acc: 0.8900\n",
      "Epoch 72/100\n",
      "9255/9255 [==============================] - 2s 178us/sample - loss: 0.3195 - acc: 0.8998\n",
      "Epoch 73/100\n",
      "9255/9255 [==============================] - 2s 177us/sample - loss: 0.3183 - acc: 0.8990\n",
      "Epoch 74/100\n",
      "9255/9255 [==============================] - 2s 178us/sample - loss: 0.3336 - acc: 0.8918\n",
      "Epoch 75/100\n",
      "9255/9255 [==============================] - 2s 183us/sample - loss: 0.3259 - acc: 0.8963\n",
      "Epoch 76/100\n",
      "9255/9255 [==============================] - 2s 178us/sample - loss: 0.3480 - acc: 0.8847\n",
      "Epoch 77/100\n",
      "9255/9255 [==============================] - 2s 177us/sample - loss: 0.3164 - acc: 0.9010\n",
      "Epoch 78/100\n",
      "9255/9255 [==============================] - 2s 180us/sample - loss: 0.3260 - acc: 0.8989\n",
      "Epoch 79/100\n",
      "9255/9255 [==============================] - 2s 179us/sample - loss: 0.3202 - acc: 0.9014\n",
      "Epoch 80/100\n",
      "9255/9255 [==============================] - 2s 178us/sample - loss: 0.3472 - acc: 0.8845\n",
      "Epoch 81/100\n",
      "9255/9255 [==============================] - 2s 181us/sample - loss: 0.3188 - acc: 0.8999\n",
      "Epoch 82/100\n",
      "9255/9255 [==============================] - 2s 181us/sample - loss: 0.3294 - acc: 0.8936\n",
      "Epoch 83/100\n",
      "9255/9255 [==============================] - 2s 178us/sample - loss: 0.3267 - acc: 0.8969\n",
      "Epoch 84/100\n",
      "9255/9255 [==============================] - 2s 179us/sample - loss: 0.3134 - acc: 0.9008\n",
      "Epoch 85/100\n",
      "9255/9255 [==============================] - 2s 180us/sample - loss: 0.3107 - acc: 0.9005\n",
      "Epoch 86/100\n",
      "9255/9255 [==============================] - 2s 181us/sample - loss: 0.3286 - acc: 0.8899\n",
      "Epoch 87/100\n",
      "9255/9255 [==============================] - 2s 180us/sample - loss: 0.3213 - acc: 0.8977\n",
      "Epoch 88/100\n",
      "9255/9255 [==============================] - 2s 177us/sample - loss: 0.3045 - acc: 0.9033\n",
      "Epoch 89/100\n",
      "9255/9255 [==============================] - 2s 176us/sample - loss: 0.3040 - acc: 0.9035\n",
      "Epoch 90/100\n",
      "9255/9255 [==============================] - 2s 173us/sample - loss: 0.3332 - acc: 0.8902\n",
      "Epoch 91/100\n",
      "9255/9255 [==============================] - 2s 178us/sample - loss: 0.3915 - acc: 0.8426\n",
      "Epoch 92/100\n",
      "9255/9255 [==============================] - 2s 179us/sample - loss: 0.3181 - acc: 0.8967\n",
      "Epoch 93/100\n",
      "9255/9255 [==============================] - 2s 177us/sample - loss: 0.3138 - acc: 0.9036\n",
      "Epoch 94/100\n",
      "9255/9255 [==============================] - 2s 182us/sample - loss: 0.3040 - acc: 0.9063\n",
      "Epoch 95/100\n",
      "9255/9255 [==============================] - 2s 175us/sample - loss: 0.3153 - acc: 0.8965\n",
      "Epoch 96/100\n",
      "9255/9255 [==============================] - 2s 177us/sample - loss: 0.2940 - acc: 0.9083\n",
      "Epoch 97/100\n",
      "9255/9255 [==============================] - 2s 178us/sample - loss: 0.3094 - acc: 0.8997\n",
      "Epoch 98/100\n",
      "9255/9255 [==============================] - 2s 176us/sample - loss: 0.3222 - acc: 0.8947\n",
      "Epoch 99/100\n",
      "9255/9255 [==============================] - 2s 182us/sample - loss: 0.3337 - acc: 0.8847\n",
      "Epoch 100/100\n",
      "9255/9255 [==============================] - 2s 182us/sample - loss: 0.3245 - acc: 0.8930\n",
      "4628/4628 [==============================] - 0s 76us/sample - loss: 0.5507 - acc: 0.7567\n",
      "Precisión del clasificador NN: 75.66983699798584\n",
      "Train on 9255 samples\n",
      "Epoch 1/100\n",
      "9255/9255 [==============================] - 2s 202us/sample - loss: 0.6307 - acc: 0.6362\n",
      "Epoch 2/100\n",
      "9255/9255 [==============================] - 2s 180us/sample - loss: 0.5451 - acc: 0.7455\n",
      "Epoch 3/100\n",
      "9255/9255 [==============================] - 2s 185us/sample - loss: 0.5336 - acc: 0.7402\n",
      "Epoch 4/100\n",
      "9255/9255 [==============================] - 2s 183us/sample - loss: 0.4784 - acc: 0.8028\n",
      "Epoch 5/100\n",
      "9255/9255 [==============================] - 2s 187us/sample - loss: 0.4396 - acc: 0.8321\n",
      "Epoch 6/100\n",
      "9255/9255 [==============================] - 2s 183us/sample - loss: 0.4270 - acc: 0.8419\n",
      "Epoch 7/100\n",
      "9255/9255 [==============================] - 2s 184us/sample - loss: 0.4187 - acc: 0.8447\n",
      "Epoch 8/100\n",
      "9255/9255 [==============================] - 2s 183us/sample - loss: 0.4022 - acc: 0.8518\n",
      "Epoch 9/100\n",
      "9255/9255 [==============================] - 2s 186us/sample - loss: 0.3995 - acc: 0.8496\n",
      "Epoch 10/100\n",
      "9255/9255 [==============================] - 2s 184us/sample - loss: 0.3985 - acc: 0.8561\n",
      "Epoch 11/100\n",
      "9255/9255 [==============================] - 2s 186us/sample - loss: 0.3902 - acc: 0.8632\n",
      "Epoch 12/100\n",
      "9255/9255 [==============================] - 2s 181us/sample - loss: 0.3871 - acc: 0.8603\n",
      "Epoch 13/100\n",
      "9255/9255 [==============================] - 2s 187us/sample - loss: 0.3898 - acc: 0.8577\n",
      "Epoch 14/100\n",
      "9255/9255 [==============================] - 2s 184us/sample - loss: 0.3840 - acc: 0.8666\n",
      "Epoch 15/100\n",
      "9255/9255 [==============================] - 2s 182us/sample - loss: 0.3791 - acc: 0.8677\n",
      "Epoch 16/100\n",
      "9255/9255 [==============================] - 2s 186us/sample - loss: 0.3713 - acc: 0.8717\n",
      "Epoch 17/100\n",
      "9255/9255 [==============================] - 2s 184us/sample - loss: 0.3679 - acc: 0.8714\n",
      "Epoch 18/100\n",
      "9255/9255 [==============================] - 2s 184us/sample - loss: 0.3635 - acc: 0.8724\n",
      "Epoch 19/100\n",
      "9255/9255 [==============================] - 2s 184us/sample - loss: 0.3603 - acc: 0.8731\n",
      "Epoch 20/100\n",
      "9255/9255 [==============================] - 2s 185us/sample - loss: 0.3666 - acc: 0.8707\n",
      "Epoch 21/100\n",
      "9255/9255 [==============================] - 2s 185us/sample - loss: 0.3684 - acc: 0.8697\n",
      "Epoch 22/100\n",
      "9255/9255 [==============================] - 2s 184us/sample - loss: 0.3547 - acc: 0.8769\n",
      "Epoch 23/100\n",
      "9255/9255 [==============================] - 2s 186us/sample - loss: 0.3500 - acc: 0.8798\n",
      "Epoch 24/100\n",
      "9255/9255 [==============================] - 2s 190us/sample - loss: 0.3568 - acc: 0.8766\n",
      "Epoch 25/100\n",
      "9255/9255 [==============================] - 2s 187us/sample - loss: 0.3556 - acc: 0.8781\n",
      "Epoch 26/100\n",
      "9255/9255 [==============================] - 2s 187us/sample - loss: 0.3747 - acc: 0.8677\n",
      "Epoch 27/100\n",
      "9255/9255 [==============================] - 2s 186us/sample - loss: 0.3524 - acc: 0.8761\n",
      "Epoch 28/100\n",
      "9255/9255 [==============================] - 2s 185us/sample - loss: 0.3472 - acc: 0.8814\n",
      "Epoch 29/100\n",
      "9255/9255 [==============================] - 2s 181us/sample - loss: 0.3473 - acc: 0.8810\n",
      "Epoch 30/100\n",
      "9255/9255 [==============================] - 2s 183us/sample - loss: 0.3934 - acc: 0.8341\n",
      "Epoch 31/100\n",
      "9255/9255 [==============================] - 2s 182us/sample - loss: 0.3547 - acc: 0.8807\n",
      "Epoch 32/100\n",
      "9255/9255 [==============================] - 2s 185us/sample - loss: 0.3435 - acc: 0.8860\n",
      "Epoch 33/100\n",
      "9255/9255 [==============================] - 2s 188us/sample - loss: 0.3516 - acc: 0.8816\n",
      "Epoch 34/100\n",
      "9255/9255 [==============================] - 2s 184us/sample - loss: 0.3460 - acc: 0.8828\n",
      "Epoch 35/100\n",
      "9255/9255 [==============================] - 2s 184us/sample - loss: 0.3411 - acc: 0.8870\n",
      "Epoch 36/100\n",
      "9255/9255 [==============================] - 2s 188us/sample - loss: 0.3527 - acc: 0.8793\n",
      "Epoch 37/100\n",
      "9255/9255 [==============================] - 2s 184us/sample - loss: 0.3405 - acc: 0.8877\n",
      "Epoch 38/100\n",
      "9255/9255 [==============================] - 2s 180us/sample - loss: 0.3406 - acc: 0.8867\n",
      "Epoch 39/100\n",
      "9255/9255 [==============================] - 2s 182us/sample - loss: 0.3350 - acc: 0.8873\n",
      "Epoch 40/100\n",
      "9255/9255 [==============================] - 2s 182us/sample - loss: 0.3363 - acc: 0.8867\n",
      "Epoch 41/100\n",
      "9255/9255 [==============================] - 2s 181us/sample - loss: 0.3489 - acc: 0.8810\n",
      "Epoch 42/100\n",
      "9255/9255 [==============================] - 2s 187us/sample - loss: 0.3483 - acc: 0.8824\n",
      "Epoch 43/100\n",
      "9255/9255 [==============================] - 2s 181us/sample - loss: 0.3372 - acc: 0.8882\n",
      "Epoch 44/100\n",
      "9255/9255 [==============================] - 2s 179us/sample - loss: 0.3397 - acc: 0.8849\n",
      "Epoch 45/100\n",
      "9255/9255 [==============================] - 2s 183us/sample - loss: 0.3299 - acc: 0.8874\n",
      "Epoch 46/100\n",
      "9255/9255 [==============================] - 2s 179us/sample - loss: 0.3369 - acc: 0.8874\n",
      "Epoch 47/100\n",
      "9255/9255 [==============================] - 2s 184us/sample - loss: 0.3472 - acc: 0.8847\n",
      "Epoch 48/100\n",
      "9255/9255 [==============================] - 2s 184us/sample - loss: 0.3482 - acc: 0.8836\n",
      "Epoch 49/100\n",
      "9255/9255 [==============================] - 2s 186us/sample - loss: 0.3350 - acc: 0.8887\n",
      "Epoch 50/100\n",
      "9255/9255 [==============================] - 2s 182us/sample - loss: 0.3529 - acc: 0.8794\n",
      "Epoch 51/100\n",
      "9255/9255 [==============================] - 2s 187us/sample - loss: 0.3299 - acc: 0.8926\n",
      "Epoch 52/100\n",
      "9255/9255 [==============================] - 2s 183us/sample - loss: 0.3624 - acc: 0.8747\n",
      "Epoch 53/100\n",
      "9255/9255 [==============================] - 2s 186us/sample - loss: 0.3361 - acc: 0.8863\n",
      "Epoch 54/100\n",
      "9255/9255 [==============================] - 2s 190us/sample - loss: 0.3201 - acc: 0.8955\n",
      "Epoch 55/100\n",
      "9255/9255 [==============================] - 2s 182us/sample - loss: 0.3492 - acc: 0.8873\n",
      "Epoch 56/100\n",
      "9255/9255 [==============================] - 2s 185us/sample - loss: 0.3506 - acc: 0.8851\n",
      "Epoch 57/100\n",
      "9255/9255 [==============================] - 2s 186us/sample - loss: 0.3284 - acc: 0.8955\n",
      "Epoch 58/100\n",
      "9255/9255 [==============================] - 2s 188us/sample - loss: 0.3401 - acc: 0.8884\n",
      "Epoch 59/100\n",
      "9255/9255 [==============================] - 2s 180us/sample - loss: 0.3661 - acc: 0.8714\n",
      "Epoch 60/100\n",
      "9255/9255 [==============================] - 2s 186us/sample - loss: 0.3313 - acc: 0.8931\n",
      "Epoch 61/100\n",
      "9255/9255 [==============================] - 2s 185us/sample - loss: 0.3483 - acc: 0.8823\n",
      "Epoch 62/100\n",
      "9255/9255 [==============================] - 2s 182us/sample - loss: 0.3350 - acc: 0.8886\n",
      "Epoch 63/100\n",
      "9255/9255 [==============================] - 2s 181us/sample - loss: 0.3224 - acc: 0.8934\n",
      "Epoch 64/100\n",
      "9255/9255 [==============================] - 2s 182us/sample - loss: 0.3255 - acc: 0.8935\n",
      "Epoch 65/100\n",
      "9255/9255 [==============================] - 2s 178us/sample - loss: 0.3246 - acc: 0.8931\n",
      "Epoch 66/100\n",
      "9255/9255 [==============================] - 2s 185us/sample - loss: 0.3400 - acc: 0.8818\n",
      "Epoch 67/100\n",
      "9255/9255 [==============================] - 2s 181us/sample - loss: 0.3259 - acc: 0.8912\n",
      "Epoch 68/100\n",
      "9255/9255 [==============================] - 2s 188us/sample - loss: 0.3186 - acc: 0.8938\n",
      "Epoch 69/100\n",
      "9255/9255 [==============================] - 2s 186us/sample - loss: 0.3537 - acc: 0.8813\n",
      "Epoch 70/100\n",
      "9255/9255 [==============================] - 2s 187us/sample - loss: 0.3529 - acc: 0.8777\n",
      "Epoch 71/100\n",
      "9255/9255 [==============================] - 2s 186us/sample - loss: 0.3466 - acc: 0.8802\n",
      "Epoch 72/100\n",
      "9255/9255 [==============================] - 2s 192us/sample - loss: 0.3335 - acc: 0.8903\n",
      "Epoch 73/100\n",
      "9255/9255 [==============================] - 2s 185us/sample - loss: 0.3280 - acc: 0.8909\n",
      "Epoch 74/100\n",
      "9255/9255 [==============================] - 2s 186us/sample - loss: 0.3310 - acc: 0.8936\n",
      "Epoch 75/100\n",
      "9255/9255 [==============================] - 2s 182us/sample - loss: 0.3196 - acc: 0.8971\n",
      "Epoch 76/100\n",
      "9255/9255 [==============================] - 2s 180us/sample - loss: 0.3895 - acc: 0.8495\n",
      "Epoch 77/100\n",
      "9255/9255 [==============================] - 2s 184us/sample - loss: 0.3247 - acc: 0.8928\n",
      "Epoch 78/100\n",
      "9255/9255 [==============================] - 2s 183us/sample - loss: 0.3186 - acc: 0.8983\n",
      "Epoch 79/100\n",
      "9255/9255 [==============================] - 2s 182us/sample - loss: 0.3378 - acc: 0.8909\n",
      "Epoch 80/100\n",
      "9255/9255 [==============================] - 2s 182us/sample - loss: 0.3537 - acc: 0.8805\n",
      "Epoch 81/100\n",
      "9255/9255 [==============================] - 2s 185us/sample - loss: 0.3106 - acc: 0.8985\n",
      "Epoch 82/100\n",
      "9255/9255 [==============================] - 2s 179us/sample - loss: 0.3232 - acc: 0.8967\n",
      "Epoch 83/100\n",
      "9255/9255 [==============================] - 2s 178us/sample - loss: 0.3199 - acc: 0.8958\n",
      "Epoch 84/100\n",
      "9255/9255 [==============================] - 2s 185us/sample - loss: 0.3387 - acc: 0.8867\n",
      "Epoch 85/100\n",
      "9255/9255 [==============================] - 2s 180us/sample - loss: 0.3365 - acc: 0.8910\n",
      "Epoch 86/100\n",
      "9255/9255 [==============================] - 2s 182us/sample - loss: 0.3261 - acc: 0.8937\n",
      "Epoch 87/100\n",
      "9255/9255 [==============================] - 2s 184us/sample - loss: 0.3247 - acc: 0.8949\n",
      "Epoch 88/100\n",
      "9255/9255 [==============================] - 2s 185us/sample - loss: 0.3211 - acc: 0.8943\n",
      "Epoch 89/100\n",
      "9255/9255 [==============================] - 2s 182us/sample - loss: 0.3265 - acc: 0.8907\n",
      "Epoch 90/100\n",
      "9255/9255 [==============================] - 2s 182us/sample - loss: 0.3416 - acc: 0.8877\n",
      "Epoch 91/100\n",
      "9255/9255 [==============================] - 2s 181us/sample - loss: 0.3298 - acc: 0.8953\n",
      "Epoch 92/100\n",
      "9255/9255 [==============================] - 2s 181us/sample - loss: 0.3353 - acc: 0.8886\n",
      "Epoch 93/100\n",
      "9255/9255 [==============================] - 2s 180us/sample - loss: 0.3290 - acc: 0.8925\n",
      "Epoch 94/100\n",
      "9255/9255 [==============================] - 2s 181us/sample - loss: 0.3382 - acc: 0.8918\n",
      "Epoch 95/100\n",
      "9255/9255 [==============================] - 2s 184us/sample - loss: 0.3197 - acc: 0.8958\n",
      "Epoch 96/100\n",
      "9255/9255 [==============================] - 2s 182us/sample - loss: 0.3418 - acc: 0.8870\n",
      "Epoch 97/100\n",
      "9255/9255 [==============================] - 2s 181us/sample - loss: 0.3209 - acc: 0.8932\n",
      "Epoch 98/100\n",
      "9255/9255 [==============================] - 2s 183us/sample - loss: 0.3508 - acc: 0.8853\n",
      "Epoch 99/100\n",
      "9255/9255 [==============================] - 2s 182us/sample - loss: 0.3281 - acc: 0.8938\n",
      "Epoch 100/100\n",
      "9255/9255 [==============================] - 2s 181us/sample - loss: 0.3382 - acc: 0.8903\n",
      "4628/4628 [==============================] - 0s 74us/sample - loss: 0.4159 - acc: 0.8561\n",
      "Precisión del clasificador NN: 85.60933470726013\n",
      "Train on 9256 samples\n",
      "Epoch 1/100\n",
      "9256/9256 [==============================] - 2s 192us/sample - loss: 0.2322 - acc: 0.9056\n",
      "Epoch 2/100\n",
      "9256/9256 [==============================] - 2s 179us/sample - loss: 0.1422 - acc: 0.9471\n",
      "Epoch 3/100\n",
      "9256/9256 [==============================] - 2s 182us/sample - loss: 0.1346 - acc: 0.9544\n",
      "Epoch 4/100\n",
      "9256/9256 [==============================] - 2s 180us/sample - loss: 0.1128 - acc: 0.9661\n",
      "Epoch 5/100\n",
      "9256/9256 [==============================] - 2s 178us/sample - loss: 0.1052 - acc: 0.9672\n",
      "Epoch 6/100\n",
      "9256/9256 [==============================] - 2s 180us/sample - loss: 0.0983 - acc: 0.9761\n",
      "Epoch 7/100\n",
      "9256/9256 [==============================] - 2s 182us/sample - loss: 0.0839 - acc: 0.9787\n",
      "Epoch 8/100\n",
      "9256/9256 [==============================] - 2s 181us/sample - loss: 0.0943 - acc: 0.9737\n",
      "Epoch 9/100\n",
      "9256/9256 [==============================] - 2s 176us/sample - loss: 0.0889 - acc: 0.9741\n",
      "Epoch 10/100\n",
      "9256/9256 [==============================] - 2s 179us/sample - loss: 0.0807 - acc: 0.9815\n",
      "Epoch 11/100\n",
      "9256/9256 [==============================] - 2s 180us/sample - loss: 0.1080 - acc: 0.9624\n",
      "Epoch 12/100\n",
      "9256/9256 [==============================] - 2s 180us/sample - loss: 0.0802 - acc: 0.9815\n",
      "Epoch 13/100\n",
      "9256/9256 [==============================] - 2s 180us/sample - loss: 0.0857 - acc: 0.9760\n",
      "Epoch 14/100\n",
      "9256/9256 [==============================] - 2s 181us/sample - loss: 0.0820 - acc: 0.9808\n",
      "Epoch 15/100\n",
      "9256/9256 [==============================] - 2s 181us/sample - loss: 0.0785 - acc: 0.9806\n",
      "Epoch 16/100\n",
      "9256/9256 [==============================] - 2s 179us/sample - loss: 0.0777 - acc: 0.9787\n",
      "Epoch 17/100\n",
      "9256/9256 [==============================] - 2s 179us/sample - loss: 0.0829 - acc: 0.9804\n",
      "Epoch 18/100\n",
      "9256/9256 [==============================] - 2s 176us/sample - loss: 0.0745 - acc: 0.9800\n",
      "Epoch 19/100\n",
      "9256/9256 [==============================] - 2s 177us/sample - loss: 0.0743 - acc: 0.9826\n",
      "Epoch 20/100\n",
      "9256/9256 [==============================] - 2s 179us/sample - loss: 0.0718 - acc: 0.9836\n",
      "Epoch 21/100\n",
      "9256/9256 [==============================] - 2s 182us/sample - loss: 0.0687 - acc: 0.9854\n",
      "Epoch 22/100\n",
      "9256/9256 [==============================] - 2s 179us/sample - loss: 0.0634 - acc: 0.9870\n",
      "Epoch 23/100\n",
      "9256/9256 [==============================] - 2s 178us/sample - loss: 0.0585 - acc: 0.9883\n",
      "Epoch 24/100\n",
      "9256/9256 [==============================] - 2s 180us/sample - loss: 0.0639 - acc: 0.9865\n",
      "Epoch 25/100\n",
      "9256/9256 [==============================] - 2s 180us/sample - loss: 0.0747 - acc: 0.9838\n",
      "Epoch 26/100\n",
      "9256/9256 [==============================] - 2s 178us/sample - loss: 0.0661 - acc: 0.9861\n",
      "Epoch 27/100\n",
      "9256/9256 [==============================] - 2s 179us/sample - loss: 0.0701 - acc: 0.9856\n",
      "Epoch 28/100\n",
      "9256/9256 [==============================] - 2s 183us/sample - loss: 0.0752 - acc: 0.9815\n",
      "Epoch 29/100\n",
      "9256/9256 [==============================] - 2s 175us/sample - loss: 0.0755 - acc: 0.9838\n",
      "Epoch 30/100\n",
      "9256/9256 [==============================] - 2s 180us/sample - loss: 0.1114 - acc: 0.9670\n",
      "Epoch 31/100\n",
      "9256/9256 [==============================] - 2s 182us/sample - loss: 0.0576 - acc: 0.9890\n",
      "Epoch 32/100\n",
      "9256/9256 [==============================] - 2s 180us/sample - loss: 0.0733 - acc: 0.9841\n",
      "Epoch 33/100\n",
      "9256/9256 [==============================] - 2s 180us/sample - loss: 0.0836 - acc: 0.9708\n",
      "Epoch 34/100\n",
      "9256/9256 [==============================] - 2s 184us/sample - loss: 0.0772 - acc: 0.9828\n",
      "Epoch 35/100\n",
      "9256/9256 [==============================] - 2s 180us/sample - loss: 0.0730 - acc: 0.9849\n",
      "Epoch 36/100\n",
      "9256/9256 [==============================] - 2s 179us/sample - loss: 0.0933 - acc: 0.9719\n",
      "Epoch 37/100\n",
      "9256/9256 [==============================] - 2s 178us/sample - loss: 0.0620 - acc: 0.9873\n",
      "Epoch 38/100\n",
      "9256/9256 [==============================] - 2s 181us/sample - loss: 0.0591 - acc: 0.9884\n",
      "Epoch 39/100\n",
      "9256/9256 [==============================] - 2s 181us/sample - loss: 0.0831 - acc: 0.9734\n",
      "Epoch 40/100\n",
      "9256/9256 [==============================] - 2s 178us/sample - loss: 0.0740 - acc: 0.9837\n",
      "Epoch 41/100\n",
      "9256/9256 [==============================] - 2s 177us/sample - loss: 0.0600 - acc: 0.9878\n",
      "Epoch 42/100\n",
      "9256/9256 [==============================] - 2s 181us/sample - loss: 0.0742 - acc: 0.9852\n",
      "Epoch 43/100\n",
      "9256/9256 [==============================] - 2s 180us/sample - loss: 0.0726 - acc: 0.9841\n",
      "Epoch 44/100\n",
      "9256/9256 [==============================] - 2s 181us/sample - loss: 0.0638 - acc: 0.9858\n",
      "Epoch 45/100\n",
      "9256/9256 [==============================] - 2s 181us/sample - loss: 0.0689 - acc: 0.9862\n",
      "Epoch 46/100\n",
      "9256/9256 [==============================] - 2s 178us/sample - loss: 0.0667 - acc: 0.9851\n",
      "Epoch 47/100\n",
      "9256/9256 [==============================] - 2s 180us/sample - loss: 0.0625 - acc: 0.9869\n",
      "Epoch 48/100\n",
      "9256/9256 [==============================] - 2s 179us/sample - loss: 0.0666 - acc: 0.9852\n",
      "Epoch 49/100\n",
      "9256/9256 [==============================] - 2s 181us/sample - loss: 0.0546 - acc: 0.9897\n",
      "Epoch 50/100\n",
      "9256/9256 [==============================] - 2s 176us/sample - loss: 0.0747 - acc: 0.9800\n",
      "Epoch 51/100\n",
      "9256/9256 [==============================] - 2s 180us/sample - loss: 0.0803 - acc: 0.9833\n",
      "Epoch 52/100\n",
      "9256/9256 [==============================] - 2s 178us/sample - loss: 0.0795 - acc: 0.9786\n",
      "Epoch 53/100\n",
      "9256/9256 [==============================] - 2s 180us/sample - loss: 0.0621 - acc: 0.9878\n",
      "Epoch 54/100\n",
      "9256/9256 [==============================] - 2s 179us/sample - loss: 0.0768 - acc: 0.9797\n",
      "Epoch 55/100\n",
      "9256/9256 [==============================] - 2s 178us/sample - loss: 0.0627 - acc: 0.9877\n",
      "Epoch 56/100\n",
      "9256/9256 [==============================] - 2s 180us/sample - loss: 0.0583 - acc: 0.9890\n",
      "Epoch 57/100\n",
      "9256/9256 [==============================] - 2s 181us/sample - loss: 0.0620 - acc: 0.9876\n",
      "Epoch 58/100\n",
      "9256/9256 [==============================] - 2s 185us/sample - loss: 0.0721 - acc: 0.9823\n",
      "Epoch 59/100\n",
      "9256/9256 [==============================] - 2s 175us/sample - loss: 0.0621 - acc: 0.9878\n",
      "Epoch 60/100\n",
      "9256/9256 [==============================] - 2s 179us/sample - loss: 0.0707 - acc: 0.9849\n",
      "Epoch 61/100\n",
      "9256/9256 [==============================] - 2s 183us/sample - loss: 0.0557 - acc: 0.9893\n",
      "Epoch 62/100\n",
      "9256/9256 [==============================] - 2s 176us/sample - loss: 0.0622 - acc: 0.9875\n",
      "Epoch 63/100\n",
      "9256/9256 [==============================] - 2s 180us/sample - loss: 0.0787 - acc: 0.9809\n",
      "Epoch 64/100\n",
      "9256/9256 [==============================] - 2s 176us/sample - loss: 0.0636 - acc: 0.9873\n",
      "Epoch 65/100\n",
      "9256/9256 [==============================] - 2s 181us/sample - loss: 0.0666 - acc: 0.9850\n",
      "Epoch 66/100\n",
      "9256/9256 [==============================] - 2s 180us/sample - loss: 0.0679 - acc: 0.9858\n",
      "Epoch 67/100\n",
      "9256/9256 [==============================] - 2s 178us/sample - loss: 0.0650 - acc: 0.9875\n",
      "Epoch 68/100\n",
      "9256/9256 [==============================] - 2s 181us/sample - loss: 0.0627 - acc: 0.9868\n",
      "Epoch 69/100\n",
      "9256/9256 [==============================] - 2s 184us/sample - loss: 0.0699 - acc: 0.9835\n",
      "Epoch 70/100\n",
      "9256/9256 [==============================] - 2s 182us/sample - loss: 0.0525 - acc: 0.9903\n",
      "Epoch 71/100\n",
      "9256/9256 [==============================] - 2s 183us/sample - loss: 0.0717 - acc: 0.9802\n",
      "Epoch 72/100\n",
      "9256/9256 [==============================] - 2s 177us/sample - loss: 0.0878 - acc: 0.9803\n",
      "Epoch 73/100\n",
      "9256/9256 [==============================] - 2s 182us/sample - loss: 0.0650 - acc: 0.9857\n",
      "Epoch 74/100\n",
      "9256/9256 [==============================] - 2s 180us/sample - loss: 0.0599 - acc: 0.9873\n",
      "Epoch 75/100\n",
      "9256/9256 [==============================] - 2s 179us/sample - loss: 0.0865 - acc: 0.9767\n",
      "Epoch 76/100\n",
      "9256/9256 [==============================] - 2s 179us/sample - loss: 0.0649 - acc: 0.9858\n",
      "Epoch 77/100\n",
      "9256/9256 [==============================] - 2s 181us/sample - loss: 0.0691 - acc: 0.9846\n",
      "Epoch 78/100\n",
      "9256/9256 [==============================] - 2s 180us/sample - loss: 0.0548 - acc: 0.9892\n",
      "Epoch 79/100\n",
      "9256/9256 [==============================] - 2s 178us/sample - loss: 0.0566 - acc: 0.9885\n",
      "Epoch 80/100\n",
      "9256/9256 [==============================] - 2s 181us/sample - loss: 0.1067 - acc: 0.9723\n",
      "Epoch 81/100\n",
      "9256/9256 [==============================] - 2s 179us/sample - loss: 0.0550 - acc: 0.9896\n",
      "Epoch 82/100\n",
      "9256/9256 [==============================] - 2s 180us/sample - loss: 0.0538 - acc: 0.9900\n",
      "Epoch 83/100\n",
      "9256/9256 [==============================] - 2s 177us/sample - loss: 0.0660 - acc: 0.9862\n",
      "Epoch 84/100\n",
      "9256/9256 [==============================] - 2s 179us/sample - loss: 0.0597 - acc: 0.9880\n",
      "Epoch 85/100\n",
      "9256/9256 [==============================] - 2s 177us/sample - loss: 0.1118 - acc: 0.9607\n",
      "Epoch 86/100\n",
      "9256/9256 [==============================] - 2s 179us/sample - loss: 0.0783 - acc: 0.9752\n",
      "Epoch 87/100\n",
      "9256/9256 [==============================] - 2s 180us/sample - loss: 0.0982 - acc: 0.9650\n",
      "Epoch 88/100\n",
      "9256/9256 [==============================] - 2s 179us/sample - loss: 0.0683 - acc: 0.9856\n",
      "Epoch 89/100\n",
      "9256/9256 [==============================] - 2s 181us/sample - loss: 0.0744 - acc: 0.9854\n",
      "Epoch 90/100\n",
      "9256/9256 [==============================] - 2s 176us/sample - loss: 0.0623 - acc: 0.9877\n",
      "Epoch 91/100\n",
      "9256/9256 [==============================] - 2s 180us/sample - loss: 0.0766 - acc: 0.9802\n",
      "Epoch 92/100\n",
      "9256/9256 [==============================] - 2s 177us/sample - loss: 0.0545 - acc: 0.9895\n",
      "Epoch 93/100\n",
      "9256/9256 [==============================] - 2s 180us/sample - loss: 0.0643 - acc: 0.9871\n",
      "Epoch 94/100\n",
      "9256/9256 [==============================] - 2s 180us/sample - loss: 0.0540 - acc: 0.9902\n",
      "Epoch 95/100\n",
      "9256/9256 [==============================] - 2s 178us/sample - loss: 0.0515 - acc: 0.9902\n",
      "Epoch 96/100\n",
      "9256/9256 [==============================] - 2s 179us/sample - loss: 0.0514 - acc: 0.9902\n",
      "Epoch 97/100\n",
      "9256/9256 [==============================] - 2s 180us/sample - loss: 0.0611 - acc: 0.9882\n",
      "Epoch 98/100\n",
      "9256/9256 [==============================] - 2s 179us/sample - loss: 0.0948 - acc: 0.9706\n",
      "Epoch 99/100\n",
      "9256/9256 [==============================] - 2s 178us/sample - loss: 0.0700 - acc: 0.9847\n",
      "Epoch 100/100\n",
      "9256/9256 [==============================] - 2s 182us/sample - loss: 0.0641 - acc: 0.9846\n",
      "4627/4627 [==============================] - 0s 80us/sample - loss: 4.3064 - acc: 0.2099\n",
      "Precisión del clasificador NN: 20.985519886016846\n",
      "Precisión Bosque Aleatorios: 0.7738 (+/- 0.18)\n",
      "[0.70123884 0.91385768 0.78594065 0.69423631]\n"
     ]
    }
   ],
   "source": [
    "def create_model():\n",
    "\n",
    "   model = Sequential([Dense(units=50, input_dim=1758,activation='tanh'),\n",
    "                    Dense(units=20, activation='tanh'),\n",
    "                    Dense(units=1, activation='sigmoid')])\n",
    "   \n",
    "   model.compile(optimizer='nadam', \n",
    "              loss='binary_crossentropy',\n",
    "              metrics=['acc',f1_m,precision_m, recall_m])\n",
    "   return model\n",
    "\n",
    "n_split=3\n",
    "scores_nn=[]\n",
    "for train_index,test_index in KFold(n_split).split(X[col_num1]):\n",
    "  x_train,x_test=X.iloc[list(train_index)],X.iloc[list(test_index)]\n",
    "  y_train,y_test=y.iloc[list(train_index)],y.iloc[list(test_index)]\n",
    "\n",
    "  model=create_model()\n",
    "  model.fit(x_train[col_num1], y_train,epochs=100)\n",
    "  test_loss, test_acc = model.evaluate(x_test[col_num2],y_test)\n",
    "  print('Precisión del clasificador NN:', test_acc*100)\n",
    "  scores_nn.append(test_acc)\n",
    "\n",
    "print(\"Precisión Bosque Aleatorios: %0.4f (+/- %0.2f)\" % (scores_rf.mean(), scores_rf.std()*2))\n",
    "print(scores_rf)\n"
   ]
  },
  {
   "cell_type": "markdown",
   "metadata": {
    "colab_type": "text",
    "id": "9VVR4-rpdg1l"
   },
   "source": [
    "### Datos de validación"
   ]
  },
  {
   "cell_type": "code",
   "execution_count": 97,
   "metadata": {
    "colab": {
     "base_uri": "https://localhost:8080/",
     "height": 119
    },
    "colab_type": "code",
    "id": "VbpFi5NJqUYx",
    "outputId": "0a13ec24-31d1-4edf-bb84-d1a8c2b2ab35"
   },
   "outputs": [
    {
     "name": "stdout",
     "output_type": "stream",
     "text": [
      "Accuracy del clasificador Regresión Log: 58.41 \n",
      "Precisión Regresión Log: 28.22 \n",
      "Recall Regresión Log: 97.77 \n",
      "F1 Score Regresión Log: 43.80 \n",
      "Matriz de Confusión Regresión Log: \n",
      " [[685 669]\n",
      " [  6 263]]\n",
      "\n",
      "Accuracy del clasificador SVM Radial: 63.96 \n",
      "Precisión SVM Radial: 31.46 \n",
      "Recall SVM Radial: 99.63 \n",
      "F1 Score SVM Radial: 47.81 \n",
      "Matriz de SVM Radial: \n",
      " [[770 584]\n",
      " [  1 268]]\n",
      "\n",
      "Accuracy del clasificador Naive Bayes: 78.87 \n",
      "Precisión Naive Bayes: 41.74 \n",
      "Recall Naive Bayes: 69.52 \n",
      "F1 Score Naive Bayes: 52.16 \n",
      "Matriz de Confusión Naive Bayes: \n",
      " [[1093  261]\n",
      " [  82  187]]\n",
      "\n",
      "Accuracy del clasificador Random Forest: 38.08 \n",
      "Precisión Random Forest: 21.11 \n",
      "Recall Random Forest: 100.00 \n",
      "F1 Score Random Forest: 34.87 \n",
      "Matriz de Confusión Random Forest: \n",
      " [[ 349 1005]\n",
      " [   0  269]]\n",
      "\n",
      "Accuracy del clasificador Red Neuronal: 74.18 \n",
      "Precisión Red Neuronal 38.64 \n",
      "Recall Red Neuronal 94.80 \n",
      "F1 Score Red Neuronal: 54.90 \n",
      "Matriz de Confusión Red Neuronal: \n",
      " [[949 405]\n",
      " [ 14 255]]\n"
     ]
    }
   ],
   "source": [
    "y_pred_lr = lr.predict(X_val_std)\n",
    "acc_lr = accuracy_score(y_val, y_pred_lr)\n",
    "print (\"Accuracy del clasificador Regresión Log: %.2f \" %(acc_lr*100))\n",
    "pre_lr=precision_score(y_val, y_pred_lr, average='binary')\n",
    "print (\"Precisión Regresión Log: %.2f \" %(pre_lr*100.0))\n",
    "rcall_lr=recall_score(y_val, y_pred_lr, average='binary')\n",
    "print (\"Recall Regresión Log: %.2f \" %(rcall_lr*100.0))\n",
    "f1_lr=f1_score(y_val, y_pred_lr, average='binary')\n",
    "print (\"F1 Score Regresión Log: %.2f \" %(f1_lr*100.0))\n",
    "mat_lr = confusion_matrix(y_val, y_pred_lr)\n",
    "print (\"Matriz de Confusión Regresión Log: \\n\", mat_lr)\n",
    "\n",
    "y_pred_svm_rbf = svm_rbf.predict(X_val_std)\n",
    "acc_svm_rbf = accuracy_score(y_val,y_pred_svm_rbf)\n",
    "print (\"\\nAccuracy del clasificador SVM Radial: %.2f \" %(acc_svm_rbf*100.0))\n",
    "pre_svm_rbf=precision_score(y_val, y_pred_svm_rbf, average='binary')\n",
    "print (\"Precisión SVM Radial: %.2f \" %(pre_svm_rbf*100.0))\n",
    "rcall_svm_rbf=recall_score(y_val, y_pred_svm_rbf, average='binary')\n",
    "print (\"Recall SVM Radial: %.2f \" %(rcall_svm_rbf*100.0))\n",
    "f1_svm_rbf=f1_score(y_val, y_pred_svm_rbf, average='binary')\n",
    "print (\"F1 Score SVM Radial: %.2f \" %(f1_svm_rbf*100.0))\n",
    "mat_svm_rbf = confusion_matrix(y_val, y_pred_svm_rbf)\n",
    "print (\"Matriz de SVM Radial: \\n\", mat_svm_rbf)\n",
    "\n",
    "y_pred_nv = nv.predict(X_val_std)\n",
    "acc_nv = accuracy_score(y_val, y_pred_nv)\n",
    "print (\"\\nAccuracy del clasificador Naive Bayes: %.2f \" %(acc_nv*100.0))\n",
    "pre_nv=precision_score(y_val, y_pred_nv, average='binary')\n",
    "print (\"Precisión Naive Bayes: %.2f \" %(pre_nv*100.0))\n",
    "rcall_nv=recall_score(y_val, y_pred_nv, average='binary')\n",
    "print (\"Recall Naive Bayes: %.2f \" %(rcall_nv*100.0))\n",
    "f1_nv=f1_score(y_val, y_pred_nv, average='binary')\n",
    "print (\"F1 Score Naive Bayes: %.2f \" %(f1_nv*100.0))\n",
    "mat_nv = confusion_matrix(y_val, y_pred_nv)\n",
    "print (\"Matriz de Confusión Naive Bayes: \\n\", mat_nv)\n",
    "\n",
    "y_pred_rf = rf.predict(X_val[col_num])\n",
    "acc_rf = accuracy_score(y_val, y_pred_rf)\n",
    "print (\"\\nAccuracy del clasificador Random Forest: %.2f \" %(acc_rf*100.0))\n",
    "pre_rf=precision_score(y_val, y_pred_rf, average='binary')\n",
    "print (\"Precisión Random Forest: %.2f \" %(pre_rf*100.0))\n",
    "rcall_rf=recall_score(y_val, y_pred_rf, average='binary')\n",
    "print (\"Recall Random Forest: %.2f \" %(rcall_rf*100.0))\n",
    "f1_rf=f1_score(y_val, y_pred_rf, average='binary')\n",
    "print (\"F1 Score Random Forest: %.2f \" %(f1_rf*100.0))\n",
    "mat_rf = confusion_matrix(y_val, y_pred_rf)\n",
    "print (\"Matriz de Confusión Random Forest: \\n\", mat_rf)\n",
    "\n",
    "#Duda técnica sobre el redondeo de la predicción, ya que da valores decimales y no 1-0\n",
    "y_pred_nn = model.predict(X_val[col_num])\n",
    "y_pred_nn= np.round(y_pred_nn,0)\n",
    "acc_nn = accuracy_score(y_val, y_pred_nn)\n",
    "print (\"\\nAccuracy del clasificador Red Neuronal: %.2f \" %(acc_nn*100.0))\n",
    "pre_nn=precision_score(y_val, y_pred_nn, average='binary')\n",
    "print (\"Precisión Red Neuronal %.2f \" %(pre_nn*100.0))\n",
    "rcall_nn=recall_score(y_val, y_pred_nn, average='binary')\n",
    "print (\"Recall Red Neuronal %.2f \" %(rcall_nn*100.0))\n",
    "f1_nn=f1_score(y_val, y_pred_nn, average='binary')\n",
    "print (\"F1 Score Red Neuronal: %.2f \" %(f1_nn*100.0))\n",
    "mat_nn = confusion_matrix(y_val, y_pred_nn)\n",
    "print (\"Matriz de Confusión Red Neuronal: \\n\", mat_nn)"
   ]
  },
  {
   "cell_type": "markdown",
   "metadata": {
    "colab_type": "text",
    "id": "RK7XpDYVjnRG"
   },
   "source": [
    "## Parte 2"
   ]
  },
  {
   "cell_type": "markdown",
   "metadata": {
    "colab_type": "text",
    "id": "PjAVPn-XjsB4"
   },
   "source": [
    "### Reducción de la dimensionalidad\n",
    "    1.Exploración de la dimensión\n",
    "    2.Filtrado de baja varianza\n",
    "    3.Correlación entre las variables numéricas"
   ]
  },
  {
   "cell_type": "code",
   "execution_count": 17,
   "metadata": {
    "colab": {
     "base_uri": "https://localhost:8080/",
     "height": 34
    },
    "colab_type": "code",
    "id": "TPdn_mmdjvQH",
    "outputId": "c12dc465-d870-4979-c5a7-6260c76a921d"
   },
   "outputs": [
    {
     "name": "stdout",
     "output_type": "stream",
     "text": [
      "(13883, 2)\n"
     ]
    }
   ],
   "source": [
    "t_sne = TSNE(learning_rate=50)\n",
    "tsne_features = t_sne.fit_transform(X[col_num1])\n",
    "print(tsne_features.shape)"
   ]
  },
  {
   "cell_type": "code",
   "execution_count": 18,
   "metadata": {
    "colab": {
     "base_uri": "https://localhost:8080/",
     "height": 280
    },
    "colab_type": "code",
    "id": "F3I5aS2LvByb",
    "outputId": "276b6a76-1b5a-4ea2-8588-eb4697d8dbe5"
   },
   "outputs": [
    {
     "data": {
      "image/png": "[encoded data removed]",
      "text/plain": [
       "<Figure size 432x288 with 1 Axes>"
      ]
     },
     "metadata": {
      "needs_background": "light"
     },
     "output_type": "display_data"
    }
   ],
   "source": [
    "aux=pd.DataFrame([])\n",
    "aux['x_tsne'] = tsne_features[:,0]\n",
    "aux['y_tsne'] = tsne_features[:,1]\n",
    "\n",
    "sns.scatterplot(x=\"x_tsne\", y=\"y_tsne\", data=aux)\n",
    "plt.show()"
   ]
  },
  {
   "cell_type": "code",
   "execution_count": 0,
   "metadata": {
    "colab": {},
    "colab_type": "code",
    "id": "6wDTGqlEymB_"
   },
   "outputs": [],
   "source": [
    "# Correlación\n",
    "cmap = sns.diverging_palette(h_neg=10,h_pos=240,as_cmap=True)\n",
    "sns.heatmap(X[col_num1].corr(), center=0,cmap=cmap, linewidths=1,annot=True, fmt=\".2f\")"
   ]
  },
  {
   "cell_type": "markdown",
   "metadata": {
    "colab_type": "text",
    "id": "a3WHNk-ouKs8"
   },
   "source": [
    "### Selección de características"
   ]
  },
  {
   "cell_type": "code",
   "execution_count": 63,
   "metadata": {
    "colab": {},
    "colab_type": "code",
    "id": "czKnU-vJ9y0p"
   },
   "outputs": [
    {
     "name": "stdout",
     "output_type": "stream",
     "text": [
      "Fitting estimator with 1758 features.\n",
      "Fitting estimator with 1748 features.\n",
      "Fitting estimator with 1738 features.\n",
      "Fitting estimator with 1728 features.\n",
      "Fitting estimator with 1718 features.\n",
      "Fitting estimator with 1708 features.\n",
      "Fitting estimator with 1698 features.\n",
      "Fitting estimator with 1688 features.\n",
      "Fitting estimator with 1678 features.\n",
      "Fitting estimator with 1668 features.\n",
      "Fitting estimator with 1658 features.\n",
      "Fitting estimator with 1648 features.\n",
      "Fitting estimator with 1638 features.\n",
      "Fitting estimator with 1628 features.\n",
      "Fitting estimator with 1618 features.\n",
      "Fitting estimator with 1608 features.\n",
      "Fitting estimator with 1598 features.\n",
      "Fitting estimator with 1588 features.\n",
      "Fitting estimator with 1578 features.\n",
      "Fitting estimator with 1568 features.\n",
      "Fitting estimator with 1558 features.\n",
      "Fitting estimator with 1548 features.\n",
      "Fitting estimator with 1538 features.\n",
      "Fitting estimator with 1528 features.\n",
      "Fitting estimator with 1518 features.\n",
      "Fitting estimator with 1508 features.\n",
      "Fitting estimator with 1498 features.\n",
      "Fitting estimator with 1488 features.\n",
      "Fitting estimator with 1478 features.\n",
      "Fitting estimator with 1468 features.\n",
      "Fitting estimator with 1458 features.\n",
      "Fitting estimator with 1448 features.\n",
      "Fitting estimator with 1438 features.\n",
      "Fitting estimator with 1428 features.\n",
      "Fitting estimator with 1418 features.\n",
      "Fitting estimator with 1408 features.\n",
      "Fitting estimator with 1398 features.\n",
      "Fitting estimator with 1388 features.\n",
      "Fitting estimator with 1378 features.\n",
      "Fitting estimator with 1368 features.\n",
      "Fitting estimator with 1358 features.\n",
      "Fitting estimator with 1348 features.\n",
      "Fitting estimator with 1338 features.\n",
      "Fitting estimator with 1328 features.\n",
      "Fitting estimator with 1318 features.\n",
      "Fitting estimator with 1308 features.\n",
      "Fitting estimator with 1298 features.\n",
      "Fitting estimator with 1288 features.\n",
      "Fitting estimator with 1278 features.\n",
      "Fitting estimator with 1268 features.\n",
      "Fitting estimator with 1258 features.\n",
      "Fitting estimator with 1248 features.\n",
      "Fitting estimator with 1238 features.\n",
      "Fitting estimator with 1228 features.\n",
      "Fitting estimator with 1218 features.\n",
      "Fitting estimator with 1208 features.\n",
      "Fitting estimator with 1198 features.\n",
      "Fitting estimator with 1188 features.\n",
      "Fitting estimator with 1178 features.\n",
      "Fitting estimator with 1168 features.\n",
      "Fitting estimator with 1158 features.\n",
      "Fitting estimator with 1148 features.\n",
      "Fitting estimator with 1138 features.\n",
      "Fitting estimator with 1128 features.\n",
      "Fitting estimator with 1118 features.\n",
      "Fitting estimator with 1108 features.\n",
      "Fitting estimator with 1098 features.\n",
      "Fitting estimator with 1088 features.\n",
      "Fitting estimator with 1078 features.\n",
      "Fitting estimator with 1068 features.\n",
      "Fitting estimator with 1058 features.\n",
      "Fitting estimator with 1048 features.\n",
      "Fitting estimator with 1038 features.\n",
      "Fitting estimator with 1028 features.\n",
      "Fitting estimator with 1018 features.\n",
      "Fitting estimator with 1008 features.\n"
     ]
    },
    {
     "data": {
      "text/plain": [
       "RFE(estimator=LogisticRegression(C=1.0, class_weight=None, dual=False,\n",
       "                                 fit_intercept=True, intercept_scaling=1,\n",
       "                                 l1_ratio=None, max_iter=100,\n",
       "                                 multi_class='warn', n_jobs=None, penalty='l2',\n",
       "                                 random_state=None, solver='liblinear',\n",
       "                                 tol=0.0001, verbose=0, warm_start=False),\n",
       "    n_features_to_select=1000, step=10, verbose=1)"
      ]
     },
     "execution_count": 63,
     "metadata": {},
     "output_type": "execute_result"
    }
   ],
   "source": [
    "\n",
    "# Logistic Regressor\n",
    "#Creamos la Elimiinación Recursiva de Características, utilizando como estimador LR y eliminando 5 parámetros por paso\n",
    "rfe_lr = RFE(estimator=lr,n_features_to_select=1000,step=10, verbose=1)\n",
    "rfe_lr.fit(X_train_std, y_train)"
   ]
  },
  {
   "cell_type": "code",
   "execution_count": 64,
   "metadata": {},
   "outputs": [
    {
     "name": "stdout",
     "output_type": "stream",
     "text": [
      "Precisión del clasificador Logistic Regressor con reducción de dimensión: 88.26 \n"
     ]
    }
   ],
   "source": [
    "# Creamos la máscara de parámetros\n",
    "lr_mask=rfe_lr.support_\n",
    "\n",
    "# Se calcula la precisión del modelo, utilizando únicamente las características seleccionadas\n",
    "acc = accuracy_score(y_test, rfe_lr.predict(X_test_std))\n",
    "print(\"Precisión del clasificador Logistic Regressor con reducción de dimensión: %.2f \" %(acc*100))"
   ]
  },
  {
   "cell_type": "code",
   "execution_count": 65,
   "metadata": {},
   "outputs": [
    {
     "name": "stdout",
     "output_type": "stream",
     "text": [
      "Fitting estimator with 1758 features.\n",
      "Fitting estimator with 1748 features.\n",
      "Fitting estimator with 1738 features.\n",
      "Fitting estimator with 1728 features.\n",
      "Fitting estimator with 1718 features.\n",
      "Fitting estimator with 1708 features.\n",
      "Fitting estimator with 1698 features.\n",
      "Fitting estimator with 1688 features.\n",
      "Fitting estimator with 1678 features.\n",
      "Fitting estimator with 1668 features.\n",
      "Fitting estimator with 1658 features.\n",
      "Fitting estimator with 1648 features.\n",
      "Fitting estimator with 1638 features.\n",
      "Fitting estimator with 1628 features.\n",
      "Fitting estimator with 1618 features.\n",
      "Fitting estimator with 1608 features.\n",
      "Fitting estimator with 1598 features.\n",
      "Fitting estimator with 1588 features.\n",
      "Fitting estimator with 1578 features.\n",
      "Fitting estimator with 1568 features.\n",
      "Fitting estimator with 1558 features.\n",
      "Fitting estimator with 1548 features.\n",
      "Fitting estimator with 1538 features.\n",
      "Fitting estimator with 1528 features.\n",
      "Fitting estimator with 1518 features.\n",
      "Fitting estimator with 1508 features.\n",
      "Fitting estimator with 1498 features.\n",
      "Fitting estimator with 1488 features.\n",
      "Fitting estimator with 1478 features.\n",
      "Fitting estimator with 1468 features.\n",
      "Fitting estimator with 1458 features.\n",
      "Fitting estimator with 1448 features.\n",
      "Fitting estimator with 1438 features.\n",
      "Fitting estimator with 1428 features.\n",
      "Fitting estimator with 1418 features.\n",
      "Fitting estimator with 1408 features.\n",
      "Fitting estimator with 1398 features.\n",
      "Fitting estimator with 1388 features.\n",
      "Fitting estimator with 1378 features.\n",
      "Fitting estimator with 1368 features.\n",
      "Fitting estimator with 1358 features.\n",
      "Fitting estimator with 1348 features.\n",
      "Fitting estimator with 1338 features.\n",
      "Fitting estimator with 1328 features.\n",
      "Fitting estimator with 1318 features.\n",
      "Fitting estimator with 1308 features.\n",
      "Fitting estimator with 1298 features.\n",
      "Fitting estimator with 1288 features.\n",
      "Fitting estimator with 1278 features.\n",
      "Fitting estimator with 1268 features.\n",
      "Fitting estimator with 1258 features.\n",
      "Fitting estimator with 1248 features.\n",
      "Fitting estimator with 1238 features.\n",
      "Fitting estimator with 1228 features.\n",
      "Fitting estimator with 1218 features.\n",
      "Fitting estimator with 1208 features.\n",
      "Fitting estimator with 1198 features.\n",
      "Fitting estimator with 1188 features.\n",
      "Fitting estimator with 1178 features.\n",
      "Fitting estimator with 1168 features.\n",
      "Fitting estimator with 1158 features.\n",
      "Fitting estimator with 1148 features.\n",
      "Fitting estimator with 1138 features.\n",
      "Fitting estimator with 1128 features.\n",
      "Fitting estimator with 1118 features.\n",
      "Fitting estimator with 1108 features.\n",
      "Fitting estimator with 1098 features.\n",
      "Fitting estimator with 1088 features.\n",
      "Fitting estimator with 1078 features.\n",
      "Fitting estimator with 1068 features.\n",
      "Fitting estimator with 1058 features.\n",
      "Fitting estimator with 1048 features.\n",
      "Fitting estimator with 1038 features.\n",
      "Fitting estimator with 1028 features.\n",
      "Fitting estimator with 1018 features.\n",
      "Fitting estimator with 1008 features.\n"
     ]
    },
    {
     "data": {
      "text/plain": [
       "RFE(estimator=RandomForestClassifier(bootstrap=True, class_weight=None,\n",
       "                                     criterion='gini', max_depth=None,\n",
       "                                     max_features='auto', max_leaf_nodes=None,\n",
       "                                     min_impurity_decrease=0.0,\n",
       "                                     min_impurity_split=None,\n",
       "                                     min_samples_leaf=1, min_samples_split=2,\n",
       "                                     min_weight_fraction_leaf=0.0,\n",
       "                                     n_estimators=50, n_jobs=None,\n",
       "                                     oob_score=False, random_state=None,\n",
       "                                     verbose=0, warm_start=False),\n",
       "    n_features_to_select=1000, step=10, verbose=1)"
      ]
     },
     "execution_count": 65,
     "metadata": {},
     "output_type": "execute_result"
    }
   ],
   "source": [
    "# Random Forest\n",
    "#Creamos la Elimiinación Recursiva de Características, utilizando como estimador RF y eliminando 5 parámetros por paso\n",
    "rfe_rf = RFE(estimator=rf,n_features_to_select=1000,step=10, verbose=1)\n",
    "rfe_rf.fit(X_train_std, y_train)"
   ]
  },
  {
   "cell_type": "code",
   "execution_count": 84,
   "metadata": {},
   "outputs": [
    {
     "name": "stdout",
     "output_type": "stream",
     "text": [
      "Precisión del clasificador Random Forest con reducción de dimensión: 91.18 \n"
     ]
    }
   ],
   "source": [
    "# Creamos la máscara de parámetros\n",
    "rf_mask=rfe_rf.support_\n",
    "\n",
    "# Se calcula la precisión del modelo, utilizando únicamente las características seleccionadas\n",
    "acc = accuracy_score(y_test, rfe_rf.predict(X_test_std))\n",
    "print(\"Precisión del clasificador Random Forest con reducción de dimensión: %.2f \" %(acc*100))"
   ]
  },
  {
   "cell_type": "code",
   "execution_count": 95,
   "metadata": {},
   "outputs": [],
   "source": [
    "# Conclusión de la selección\n",
    "votes = np.sum([rf_mask,lr_mask],axis=0)\n",
    "meta_mask = votes >1"
   ]
  },
  {
   "cell_type": "code",
   "execution_count": 96,
   "metadata": {},
   "outputs": [
    {
     "data": {
      "text/plain": [
       "{True: 597, False: 1161}"
      ]
     },
     "execution_count": 96,
     "metadata": {},
     "output_type": "execute_result"
    }
   ],
   "source": [
    "aux=list(meta_mask)\n",
    "summary={x:aux.count(x) for x in aux}\n",
    "summary"
   ]
  },
  {
   "cell_type": "code",
   "execution_count": 99,
   "metadata": {},
   "outputs": [
    {
     "data": {
      "text/plain": [
       "(13883, 1000)"
      ]
     },
     "execution_count": 99,
     "metadata": {},
     "output_type": "execute_result"
    }
   ],
   "source": [
    "X_reduced=X[col_num1].iloc[:,rf_mask]\n",
    "X_reduced.shape"
   ]
  },
  {
   "cell_type": "code",
   "execution_count": 108,
   "metadata": {},
   "outputs": [
    {
     "name": "stdout",
     "output_type": "stream",
     "text": [
      "Precisión del clasificador Logitica: 87.29 \n",
      "Precisión del clasificador Radial: 90.57 \n",
      "Precisión del clasificador Naive Bayes: 71.05 \n",
      "Precisión del clasificador RandomForest: 91.00 \n"
     ]
    }
   ],
   "source": [
    "#Nota: Se puede concluir que las características eliminadas no afectan el desempeño porque se obtuvieron valores similares\n",
    "#     después de una reducción del 43% de las características se mantuvo la precisión.\n",
    "#Validación de la reducción\n",
    "X_train, X_test, y_train, y_test = train_test_split(X_reduced, y, test_size=0.2, random_state=0)\n",
    "col_num=[i for i in X_train.columns if \"int\" in str(X_train[i].dtype) or \"float\" in str(X_train[i].dtype)]\n",
    "X_train_std=scaler.fit_transform(X_train[col_num])\n",
    "X_test_std=scaler.transform(X_test[col_num])\n",
    "\n",
    "#Regresión Logistica\n",
    "lr = LogisticRegression(solver='liblinear')\n",
    "lr.fit(X_train_std,y_train)\n",
    "y_pred = lr.predict(X_test_std)\n",
    "acc = accuracy_score(y_test, y_pred)\n",
    "print (\"Precisión del clasificador Logistica: %.2f \" %(acc*100) )\n",
    "\n",
    "#SVM Radial\n",
    "svm_rbf = SVC(kernel='rbf', C=2.0, random_state=1)\n",
    "svm_rbf.fit(X_train_std, y_train)\n",
    "y_pred = svm_rbf.predict(X_test_std)\n",
    "acc2 = accuracy_score(y_test, y_pred)\n",
    "print (\"Precisión del clasificador Radial: %.2f \" %(acc2*100.0))\n",
    "\n",
    "#Naive Bayes\n",
    "nv = naive_bayes.GaussianNB()\n",
    "nv.fit(X_train_std,y_train)\n",
    "y_pred = nv.predict(X_test_std)\n",
    "acc = accuracy_score(y_test, y_pred)\n",
    "print (\"Precisión del clasificador Naive Bayes: %.2f \" %(acc*100.0))\n",
    "\n",
    "#Random Forest\n",
    "rf = RandomForestClassifier(n_estimators=50,max_depth=None)\n",
    "rf.fit(X_train[col_num], y_train)\n",
    "y_pred=rf.predict(X_test[col_num])\n",
    "acc = accuracy_score(y_test, y_pred)\n",
    "print (\"Precisión del clasificador RandomForest: %.2f \" %(acc*100.0))"
   ]
  },
  {
   "cell_type": "markdown",
   "metadata": {},
   "source": [
    "### Extracción de características"
   ]
  },
  {
   "cell_type": "code",
   "execution_count": 110,
   "metadata": {},
   "outputs": [],
   "source": [
    "pca = PCA(n_components=2)\n",
    "pca_result = pca.fit_transform(X[col_num].values)"
   ]
  },
  {
   "cell_type": "code",
   "execution_count": 108,
   "metadata": {},
   "outputs": [
    {
     "data": {
      "image/png": "[encoded data removed]",
      "text/plain": [
       "<Figure size 432x288 with 1 Axes>"
      ]
     },
     "metadata": {
      "needs_background": "light"
     },
     "output_type": "display_data"
    }
   ],
   "source": [
    "plt.plot(range(3), pca.explained_variance_ratio_)\n",
    "plt.plot(range(3), np.cumsum(pca.explained_variance_ratio_))\n",
    "plt.title(\"Component-wise and Cumulative Explained Variance\")\n",
    "plt.show()"
   ]
  },
  {
   "cell_type": "code",
   "execution_count": 111,
   "metadata": {},
   "outputs": [
    {
     "data": {
      "text/plain": [
       "array([0.91889238, 0.01157545])"
      ]
     },
     "execution_count": 111,
     "metadata": {},
     "output_type": "execute_result"
    }
   ],
   "source": [
    "pca.explained_variance_ratio_"
   ]
  },
  {
   "cell_type": "code",
   "execution_count": null,
   "metadata": {},
   "outputs": [],
   "source": []
  }
 ],
 "metadata": {
  "accelerator": "GPU",
  "colab": {
   "collapsed_sections": [
    "-BG_XUP9vdIa",
    "9VVR4-rpdg1l"
   ],
   "name": "Copia de Competencia.ipynb",
   "provenance": [],
   "toc_visible": true
  },
  "kernelspec": {
   "display_name": "Python 3",
   "language": "python",
   "name": "python3"
  },
  "language_info": {
   "codemirror_mode": {
    "name": "ipython",
    "version": 3
   },
   "file_extension": ".py",
   "mimetype": "text/x-python",
   "name": "python",
   "nbconvert_exporter": "python",
   "pygments_lexer": "ipython3",
   "version": "3.7.4"
  }
 },
 "nbformat": 4,
 "nbformat_minor": 1
}
